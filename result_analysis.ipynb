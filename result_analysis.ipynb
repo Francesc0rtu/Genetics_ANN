{
 "cells": [
  {
   "cell_type": "markdown",
   "metadata": {},
   "source": [
    "# Result anaysis of DENSER algorithm"
   ]
  },
  {
   "cell_type": "code",
   "execution_count": 3,
   "metadata": {},
   "outputs": [],
   "source": [
    "import csv\n",
    "import seaborn as sns\n",
    "import pandas as pd\n",
    "import numpy as np\n",
    "%load_ext autoreload\n",
    "%autoreload 2"
   ]
  },
  {
   "cell_type": "code",
   "execution_count": 35,
   "metadata": {},
   "outputs": [],
   "source": [
    "# subpath = \"cifar10/pop50_gen50_run30\"\n",
    "subpath = \"MNIST/pop50_gen50_run4\""
   ]
  },
  {
   "cell_type": "markdown",
   "metadata": {},
   "source": [
    "## 1. Generate plots of the results"
   ]
  },
  {
   "cell_type": "code",
   "execution_count": 5,
   "metadata": {},
   "outputs": [],
   "source": [
    "import plot_results as pr\n",
    "pr.read_results(subpath)"
   ]
  },
  {
   "cell_type": "markdown",
   "metadata": {},
   "source": [
    "## Create grid"
   ]
  },
  {
   "cell_type": "code",
   "execution_count": 76,
   "metadata": {},
   "outputs": [
    {
     "data": {
      "image/png": "[encoded data removed]",
      "text/plain": [
       "<Figure size 472.441x196.85 with 2 Axes>"
      ]
     },
     "metadata": {},
     "output_type": "display_data"
    },
    {
     "ename": "",
     "evalue": "",
     "output_type": "error",
     "traceback": [
      "\u001b[1;31mThe Kernel crashed while executing code in the the current cell or a previous cell. Please review the code in the cell(s) to identify a possible cause of the failure. Click <a href='https://aka.ms/vscodeJupyterKernelCrash'>here</a> for more info. View Jupyter <a href='command:jupyter.viewOutput'>log</a> for further details."
     ]
    }
   ],
   "source": [
    "import matplotlib.pyplot as plt\n",
    "\n",
    "gen_acc_cifar = plt.imread(\"results/cifar10/pop50_gen50_run30/plot/generation_accuracy.png\")\n",
    "gen_len_cifar = plt.imread(\"results/cifar10/pop50_gen50_run30/plot/generation_net_len.png\")\n",
    "\n",
    "\n",
    "cm = 1/2.54  # centimeters in inches\n",
    "fig, axes = plt.subplots(1, 2, figsize=(12*cm , 5*cm),  layout=\"constrained\")\n",
    "\n",
    "\n",
    "ax1 = axes[0]\n",
    "ax1.axis('off')\n",
    "ax1.imshow(gen_acc_cifar)\n",
    "\n",
    "ax2 = axes[1]\n",
    "ax2.axis('off')\n",
    "ax2.imshow(gen_len_cifar)\n",
    "\n",
    "\n",
    "plt.savefig('tmp/plot-cifar.png', dpi=600, transparent=True)"
   ]
  },
  {
   "cell_type": "code",
   "execution_count": 75,
   "metadata": {},
   "outputs": [
    {
     "data": {
      "image/png": "[encoded data removed]",
      "text/plain": [
       "<Figure size 472.441x196.85 with 2 Axes>"
      ]
     },
     "metadata": {},
     "output_type": "display_data"
    }
   ],
   "source": [
    "import matplotlib.pyplot as plt\n",
    "\n",
    "\n",
    "gen_acc_mnist = plt.imread(\"results/MNIST/pop50_gen50_run4/plot/generation_accuracy.png\")\n",
    "gen_len_mnist = plt.imread(\"results/MNIST/pop50_gen50_run4/plot/generation_net_len.png\")\n",
    "\n",
    "cm = 1/2.54  # centimeters in inches\n",
    "fig, axes = plt.subplots(1, 2, figsize=(12*cm , 5*cm),  layout=\"constrained\")\n",
    "\n",
    "\n",
    "\n",
    "ax3 = axes[0]\n",
    "ax3.axis('off')\n",
    "ax3.imshow(gen_acc_mnist)\n",
    "\n",
    "ax4 = axes[1]\n",
    "\n",
    "ax4.axis('off')\n",
    "ax4.imshow(gen_len_mnist)\n",
    "\n",
    "plt.savefig('tmp/plot-mnist.png', dpi=600, transparent=True)"
   ]
  },
  {
   "cell_type": "markdown",
   "metadata": {},
   "source": [
    "## Create net"
   ]
  },
  {
   "cell_type": "code",
   "execution_count": 28,
   "metadata": {},
   "outputs": [
    {
     "name": "stdout",
     "output_type": "stream",
     "text": [
      "The autoreload extension is already loaded. To reload it, use:\n",
      "  %reload_ext autoreload\n"
     ]
    }
   ],
   "source": [
    "from src.dsge_level import *\n",
    "from src.ga_level import *\n",
    "%load_ext autoreload\n",
    "%autoreload 2"
   ]
  },
  {
   "cell_type": "code",
   "execution_count": 29,
   "metadata": {},
   "outputs": [],
   "source": [
    "layer1 = Layer(type = layer_type.CONV, c_out=48, param={'kernel_size': 5, 'stride': 1, 'padding': 'valid', 'bias': False})\n",
    "layer2 = Layer(type = layer_type.BATCH_NORM, c_out=48, param={'eps': 8.14, 'momentum': 0.77})\n",
    "layer3 = Layer(type = layer_type.ACTIVATION, c_out=48, param=activation.RELU)\n",
    "\n",
    "layer4 = Layer(type =layer_type.POOLING, c_out=48, param={'pool_type': pool.MAX, 'kernel_size': 7, 'stride': 1, 'padding': 0})\n",
    "layer5 = Layer(type = layer_type.CONV, c_out=48, param={'kernel_size': 5, 'stride': 1, 'padding': 'valid', 'bias': False})\n",
    "layer6 = Layer(type = layer_type.BATCH_NORM, c_out=48, param={'eps': 5.34, 'momentum': 0.41})\n",
    "layer7 = Layer(type = layer_type.ACTIVATION, c_out=48, param=activation.RELU)\n",
    "\n",
    "layer8 = Layer(type=layer_type.LINEAR, c_out=100)\n",
    "layer9 = Layer(type=layer_type.ACTIVATION, c_out=100, param=activation.SIGMOID)\n",
    "\n",
    "layer10 = Layer(type=layer_type.LINEAR, c_out=10)\n",
    "layer11 = Layer(type=layer_type.ACTIVATION, c_out=10, param=activation.SOFTMAX)"
   ]
  },
  {
   "cell_type": "code",
   "execution_count": 30,
   "metadata": {},
   "outputs": [],
   "source": [
    "module1 = Module(module_types.FEATURES, layers=[layer1, layer2, layer3])\n",
    "module2 = Module(module_types.FEATURES, layers=[layer4])\n",
    "module3 = Module(module_types.FEATURES, layers=[layer5, layer6, layer7])\n",
    "module4 = Module(module_types.CLASSIFICATION, layers=[layer8, layer9])\n",
    "module5 = Module(module_types.LAST_LAYER, layers=[layer10, layer11])"
   ]
  },
  {
   "cell_type": "code",
   "execution_count": 33,
   "metadata": {},
   "outputs": [],
   "source": [
    "netcode = Net_encoding(3,2,1,10,28,[module1, module2, module3, module4, module5])"
   ]
  },
  {
   "cell_type": "code",
   "execution_count": 34,
   "metadata": {},
   "outputs": [
    {
     "name": "stdout",
     "output_type": "stream",
     "text": [
      "######## len: 5 ##########\n",
      "\n",
      " module: 0\n",
      "module_types.FEATURES\n",
      "(<layer_type.CONV: 1>, {'kernel_size': 5, 'stride': 1, 'padding': 'valid', 'bias': False}, {'in': 'not already defined', 'out': 48})\n",
      "(<layer_type.BATCH_NORM: 4>, {'eps': 8.14, 'momentum': 0.77}, {'in': 'not already defined', 'out': 48})\n",
      "(<layer_type.ACTIVATION: 2>, <activation.RELU: 0>, {'in': 'not already defined', 'out': 48})\n",
      "param:  {'input_channels': 'not already defined', 'output_channels': 48}\n",
      "output shape 24\n",
      "\n",
      " module: 1\n",
      "module_types.FEATURES\n",
      "(<layer_type.POOLING: 0>, {'pool_type': <pool.MAX: 0>, 'kernel_size': 7, 'stride': 1, 'padding': 0}, {'in': 'not already defined', 'out': 48})\n",
      "param:  {'input_channels': 'not already defined', 'output_channels': 48}\n",
      "output shape 18\n",
      "\n",
      " module: 2\n",
      "module_types.FEATURES\n",
      "(<layer_type.CONV: 1>, {'kernel_size': 5, 'stride': 1, 'padding': 'valid', 'bias': False}, {'in': 'not already defined', 'out': 48})\n",
      "(<layer_type.BATCH_NORM: 4>, {'eps': 5.34, 'momentum': 0.41}, {'in': 'not already defined', 'out': 48})\n",
      "(<layer_type.ACTIVATION: 2>, <activation.RELU: 0>, {'in': 'not already defined', 'out': 48})\n",
      "param:  {'input_channels': 'not already defined', 'output_channels': 48}\n",
      "output shape 14\n",
      "\n",
      " module: 3\n",
      "module_types.CLASSIFICATION\n",
      "(<layer_type.LINEAR: 3>, None, {'in': 'not already defined', 'out': 100})\n",
      "(<layer_type.ACTIVATION: 2>, <activation.SIGMOID: 1>, {'in': 'not already defined', 'out': 100})\n",
      "param:  {'input_channels': 'not already defined', 'output_channels': 100}\n",
      "\n",
      " module: 4\n",
      "module_types.LAST_LAYER\n",
      "(<layer_type.LINEAR: 3>, None, {'in': 'not already defined', 'out': 10})\n",
      "(<layer_type.ACTIVATION: 2>, <activation.SOFTMAX: 2>, {'in': 'not already defined', 'out': 10})\n",
      "param:  {'input_channels': 'not already defined', 'output_channels': 10}\n",
      "######################################\n"
     ]
    }
   ],
   "source": [
    "netcode.print_dsge_level()"
   ]
  },
  {
   "cell_type": "code",
   "execution_count": 39,
   "metadata": {},
   "outputs": [],
   "source": [
    "netcode.draw(50, f\"results/{subpath}\")"
   ]
  }
 ],
 "metadata": {
  "kernelspec": {
   "display_name": "Python 3.9.13 ('deep_le')",
   "language": "python",
   "name": "python3"
  },
  "language_info": {
   "codemirror_mode": {
    "name": "ipython",
    "version": 3
   },
   "file_extension": ".py",
   "mimetype": "text/x-python",
   "name": "python",
   "nbconvert_exporter": "python",
   "pygments_lexer": "ipython3",
   "version": "3.9.13"
  },
  "orig_nbformat": 4,
  "vscode": {
   "interpreter": {
    "hash": "a142b7d21e8575b7566c168744f24153333bb674c4e2523209192565d5391819"
   }
  }
 },
 "nbformat": 4,
 "nbformat_minor": 2
}
