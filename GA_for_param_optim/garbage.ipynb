{
 "cells": [
  {
   "cell_type": "code",
   "execution_count": 48,
   "metadata": {},
   "outputs": [
    {
     "ename": "ModuleNotFoundError",
     "evalue": "No module named 'utilities'",
     "output_type": "error",
     "traceback": [
      "\u001b[0;31m---------------------------------------------------------------------------\u001b[0m",
      "\u001b[0;31mModuleNotFoundError\u001b[0m                       Traceback (most recent call last)",
      "\u001b[1;32m/home/alexserra98/uni/prog_deep/Genetics_ANN/GA_for_param_optim/garbage.ipynb Cell 1\u001b[0m in \u001b[0;36m<cell line: 2>\u001b[0;34m()\u001b[0m\n\u001b[1;32m      <a href='vscode-notebook-cell://wsl%2Bubuntu/home/alexserra98/uni/prog_deep/Genetics_ANN/GA_for_param_optim/garbage.ipynb#W1sdnNjb2RlLXJlbW90ZQ%3D%3D?line=0'>1</a>\u001b[0m \u001b[39mimport\u001b[39;00m \u001b[39mgrammar\u001b[39;00m \u001b[39mas\u001b[39;00m \u001b[39mg\u001b[39;00m\n\u001b[0;32m----> <a href='vscode-notebook-cell://wsl%2Bubuntu/home/alexserra98/uni/prog_deep/Genetics_ANN/GA_for_param_optim/garbage.ipynb#W1sdnNjb2RlLXJlbW90ZQ%3D%3D?line=1'>2</a>\u001b[0m \u001b[39mimport\u001b[39;00m \u001b[39mtmp\u001b[39;00m \u001b[39mas\u001b[39;00m \u001b[39mt\u001b[39;00m\n",
      "File \u001b[0;32m~/uni/prog_deep/Genetics_ANN/GA_for_param_optim/tmp.py:6\u001b[0m, in \u001b[0;36m<module>\u001b[0;34m\u001b[0m\n\u001b[1;32m      4\u001b[0m \u001b[39mimport\u001b[39;00m \u001b[39mnumpy\u001b[39;00m \u001b[39mas\u001b[39;00m \u001b[39mnp\u001b[39;00m\n\u001b[1;32m      5\u001b[0m \u001b[39mimport\u001b[39;00m \u001b[39mos\u001b[39;00m\n\u001b[0;32m----> 6\u001b[0m \u001b[39mfrom\u001b[39;00m \u001b[39mutilities\u001b[39;00m\u001b[39m.\u001b[39;00m\u001b[39mdata\u001b[39;00m \u001b[39mimport\u001b[39;00m load_dataset\n\u001b[1;32m      7\u001b[0m \u001b[39mimport\u001b[39;00m \u001b[39mtorch\u001b[39;00m\n\u001b[1;32m      8\u001b[0m \u001b[39mimport\u001b[39;00m \u001b[39mtorchvision\u001b[39;00m\n",
      "\u001b[0;31mModuleNotFoundError\u001b[0m: No module named 'utilities'"
     ]
    }
   ],
   "source": [
    "import grammar as g\n",
    "import tmp as t\n"
   ]
  },
  {
   "cell_type": "code",
   "execution_count": 32,
   "metadata": {},
   "outputs": [],
   "source": [
    "gramm = g.Grammar('/home/alexserra98/uni/prog_deep/Genetics_ANN/GA_for_param_optim/cnn.grammar.txt')\n"
   ]
  },
  {
   "cell_type": "code",
   "execution_count": 33,
   "metadata": {},
   "outputs": [
    {
     "name": "stdout",
     "output_type": "stream",
     "text": [
      "features : [[('convolution', True), ('pooling', True)], [('convolution', True)], [('pooling', True)], [('pooling', True)], [('dropout', True)], [('batch-norm', True)]]\n",
      "convolution : [[('layer:conv', False), ('[num-filters,int,1,32,256]', False), ('[filter-shape,int,1,2,5]', False), ('[stride,int,1,1,3]', False), ('padding', True), ('activation-function', True), ('bias', True)]]\n",
      "batch-norm : [[('layer:batch-norm', False)]]\n",
      "pooling : [[('pool-type', True), ('[kernel-size,int,1,2,5]', False), ('[stride,int,1,1,3]', False), ('padding', True)]]\n",
      "pool-type : [[('layer:pool-avg', False)], [('layer:pool-max', False)]]\n",
      "padding : [[('padding:same', False)], [('padding:valid', False)]]\n",
      "dropout : [[('layer:dropout', False), ('[rate,float,1,0,0.7]', False)]]\n",
      "classification : [[('fully-connected', True)], [('dropout', True)]]\n",
      "fully-connected : [[('layer:fc', False), ('activation-function', True), ('[num-units,int,1,128,2048]', False), ('bias', True)]]\n",
      "activation-function : [[('act:linear', False)], [('act:relu', False)], [('act:sigmoid', False)]]\n",
      "bias : [[('bias:True', False)], [('bias:False', False)]]\n",
      "softmax : [[('layer:fc', False), ('act:softmax', False), ('num-units:10', False), ('bias:True', False)]]\n",
      "learning : [[('gradient-descent', True), ('early-stop', True), ('[batch_size,int,1,50,500]', False), ('epochs:400', False)], [('rmsprop', True), ('early-stop', True), ('[batch_size,int,1,50,500]', False), ('epochs:400', False)], [('adam', True), ('early-stop', True), ('[batch_size,int,1,50,500]', False), ('epochs:400', False)]]\n",
      "gradient-descent : [[('learning:gradient-descent', False), ('[lr,float,1,0.0001,0.1]', False), ('[momentum,float,1,0.68,0.99]', False), ('[decay,float,1,0.000001,0.001]', False), ('nesterov', True)]]\n",
      "nesterov : [[('nesterov:True', False)], [('nesterov:False', False)]]\n",
      "adam : [[('learning:adam', False), ('[lr,float,1,0.0001,0.1]', False), ('[beta1,float,1,0.5,1]', False), ('[beta2,float,1,0.5,1]', False), ('[decay,float,1,0.000001,0.001]', False)]]\n",
      "amsgrad : [[('amsgrad:True', False)], [('amsgrad:False', False)]]\n",
      "rmsprop : [[('learning:rmsprop', False), ('[lr,float,1,0.0001,0.1]', False), ('[rho,float,1,0.5,1]', False), ('[decay,float,1,0.000001,0.001]', False)]]\n",
      "early-stop : [[('[early_stop,int,1,5,20]', False)]]\n"
     ]
    }
   ],
   "source": [
    "for i in gramm.grammar:\n",
    "    print(f'{i} : {gramm.grammar[i]}')"
   ]
  },
  {
   "cell_type": "code",
   "execution_count": 42,
   "metadata": {},
   "outputs": [
    {
     "data": {
      "text/plain": [
       "[('layer:conv', False),\n",
       " ('[num-filters,int,1,32,256]', False),\n",
       " ('[filter-shape,int,1,2,5]', False),\n",
       " ('[stride,int,1,1,3]', False),\n",
       " ('padding', True),\n",
       " ('activation-function', True),\n",
       " ('bias', True)]"
      ]
     },
     "execution_count": 42,
     "metadata": {},
     "output_type": "execute_result"
    }
   ],
   "source": [
    "gramm.grammar['convolution'][0]"
   ]
  },
  {
   "cell_type": "code",
   "execution_count": 43,
   "metadata": {},
   "outputs": [],
   "source": [
    "prova = gramm.initialise('features')"
   ]
  },
  {
   "cell_type": "code",
   "execution_count": 44,
   "metadata": {},
   "outputs": [
    {
     "name": "stdout",
     "output_type": "stream",
     "text": [
      "features : [{'ge': 0, 'ga': {}}]\n",
      "convolution : [{'ge': 0, 'ga': {'num-filters': ('int', 32.0, 256.0, [165]), 'filter-shape': ('int', 2.0, 5.0, [3]), 'stride': ('int', 1.0, 3.0, [2])}}]\n",
      "padding : [{'ge': 0, 'ga': {}}, {'ge': 0, 'ga': {}}]\n",
      "activation-function : [{'ge': 1, 'ga': {}}]\n",
      "bias : [{'ge': 0, 'ga': {}}]\n",
      "pooling : [{'ge': 0, 'ga': {'kernel-size': ('int', 2.0, 5.0, [4]), 'stride': ('int', 1.0, 3.0, [2])}}]\n",
      "pool-type : [{'ge': 1, 'ga': {}}]\n"
     ]
    }
   ],
   "source": [
    "for i in prova:\n",
    "    print(f'{i} : {prova[i]}')"
   ]
  },
  {
   "cell_type": "code",
   "execution_count": 21,
   "metadata": {},
   "outputs": [
    {
     "data": {
      "text/plain": [
       "list"
      ]
     },
     "execution_count": 21,
     "metadata": {},
     "output_type": "execute_result"
    }
   ],
   "source": [
    "type(prova['features'])"
   ]
  },
  {
   "cell_type": "code",
   "execution_count": 46,
   "metadata": {},
   "outputs": [],
   "source": [
    "feat_layers = gramm.decode('features', prova)"
   ]
  },
  {
   "cell_type": "code",
   "execution_count": 47,
   "metadata": {},
   "outputs": [
    {
     "ename": "NameError",
     "evalue": "name 't' is not defined",
     "output_type": "error",
     "traceback": [
      "\u001b[0;31m---------------------------------------------------------------------------\u001b[0m",
      "\u001b[0;31mNameError\u001b[0m                                 Traceback (most recent call last)",
      "\u001b[1;32m/home/alexserra98/uni/prog_deep/Genetics_ANN/GA_for_param_optim/garbage.ipynb Cell 9\u001b[0m in \u001b[0;36m<cell line: 1>\u001b[0;34m()\u001b[0m\n\u001b[0;32m----> <a href='vscode-notebook-cell://wsl%2Bubuntu/home/alexserra98/uni/prog_deep/Genetics_ANN/GA_for_param_optim/garbage.ipynb#X12sdnNjb2RlLXJlbW90ZQ%3D%3D?line=0'>1</a>\u001b[0m layer_decoding \u001b[39m=\u001b[39m t\u001b[39m.\u001b[39mEvaluator()\n\u001b[1;32m      <a href='vscode-notebook-cell://wsl%2Bubuntu/home/alexserra98/uni/prog_deep/Genetics_ANN/GA_for_param_optim/garbage.ipynb#X12sdnNjb2RlLXJlbW90ZQ%3D%3D?line=1'>2</a>\u001b[0m layer_decoding\u001b[39m.\u001b[39mget_layers(feat_layers)\n",
      "\u001b[0;31mNameError\u001b[0m: name 't' is not defined"
     ]
    }
   ],
   "source": [
    "layer_decoding = t.Evaluator()\n",
    "layer_decoding.get_layers(feat_layers) "
   ]
  },
  {
   "cell_type": "code",
   "execution_count": null,
   "metadata": {},
   "outputs": [],
   "source": []
  }
 ],
 "metadata": {
  "kernelspec": {
   "display_name": "Python 3.10.4 ('myenv')",
   "language": "python",
   "name": "python3"
  },
  "language_info": {
   "codemirror_mode": {
    "name": "ipython",
    "version": 3
   },
   "file_extension": ".py",
   "mimetype": "text/x-python",
   "name": "python",
   "nbconvert_exporter": "python",
   "pygments_lexer": "ipython3",
   "version": "3.10.4"
  },
  "orig_nbformat": 4,
  "vscode": {
   "interpreter": {
    "hash": "273c48406751af6277a0bdb291ee674620b66e29f007a13179c473c693907be6"
   }
  }
 },
 "nbformat": 4,
 "nbformat_minor": 2
}
