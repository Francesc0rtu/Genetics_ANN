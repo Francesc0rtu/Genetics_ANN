{
 "cells": [
  {
   "cell_type": "code",
   "execution_count": 30,
   "metadata": {},
   "outputs": [],
   "source": [
    "import grammar as g\n",
    "import tmp as t\n",
    "import torch\n",
    "import torchvision\n",
    "import torchvision.transforms as transforms\n",
    "import torch.nn as nn\n",
    "import torch.nn.functional as F\n",
    "import torch.optim as optim\n",
    "import importlib\n",
    "\n"
   ]
  },
  {
   "cell_type": "code",
   "execution_count": 4,
   "metadata": {},
   "outputs": [],
   "source": [
    "gramm = g.Grammar('/home/alexserra98/uni/prog_deep/Genetics_ANN/GA_for_param_optim/cnn.grammar.txt')\n"
   ]
  },
  {
   "cell_type": "code",
   "execution_count": 5,
   "metadata": {},
   "outputs": [
    {
     "name": "stdout",
     "output_type": "stream",
     "text": [
      "features : [[('convolution', True), ('pooling', True)], [('convolution', True)], [('pooling', True)], [('pooling', True)], [('dropout', True)], [('batch-norm', True)]]\n",
      "convolution : [[('layer:conv', False), ('[num-filters,int,1,32,256]', False), ('[filter-shape,int,1,2,5]', False), ('[stride,int,1,1,3]', False), ('padding', True), ('activation-function', True), ('bias', True)]]\n",
      "batch-norm : [[('layer:batch-norm', False)]]\n",
      "pooling : [[('pool-type', True), ('[kernel-size,int,1,2,5]', False), ('[stride,int,1,1,3]', False), ('padding', True)]]\n",
      "pool-type : [[('layer:pool-avg', False)], [('layer:pool-max', False)]]\n",
      "padding : [[('padding:same', False)], [('padding:valid', False)]]\n",
      "dropout : [[('layer:dropout', False), ('[rate,float,1,0,0.7]', False)]]\n",
      "classification : [[('fully-connected', True)], [('dropout', True)]]\n",
      "fully-connected : [[('layer:fc', False), ('activation-function', True), ('[num-units,int,1,128,2048]', False), ('bias', True)]]\n",
      "activation-function : [[('act:linear', False)], [('act:relu', False)], [('act:sigmoid', False)]]\n",
      "bias : [[('bias:True', False)], [('bias:False', False)]]\n",
      "softmax : [[('layer:fc', False), ('act:softmax', False), ('num-units:10', False), ('bias:True', False)]]\n",
      "learning : [[('gradient-descent', True), ('early-stop', True), ('[batch_size,int,1,50,500]', False), ('epochs:400', False)], [('rmsprop', True), ('early-stop', True), ('[batch_size,int,1,50,500]', False), ('epochs:400', False)], [('adam', True), ('early-stop', True), ('[batch_size,int,1,50,500]', False), ('epochs:400', False)]]\n",
      "gradient-descent : [[('learning:gradient-descent', False), ('[lr,float,1,0.0001,0.1]', False), ('[momentum,float,1,0.68,0.99]', False), ('[decay,float,1,0.000001,0.001]', False), ('nesterov', True)]]\n",
      "nesterov : [[('nesterov:True', False)], [('nesterov:False', False)]]\n",
      "adam : [[('learning:adam', False), ('[lr,float,1,0.0001,0.1]', False), ('[beta1,float,1,0.5,1]', False), ('[beta2,float,1,0.5,1]', False), ('[decay,float,1,0.000001,0.001]', False)]]\n",
      "amsgrad : [[('amsgrad:True', False)], [('amsgrad:False', False)]]\n",
      "rmsprop : [[('learning:rmsprop', False), ('[lr,float,1,0.0001,0.1]', False), ('[rho,float,1,0.5,1]', False), ('[decay,float,1,0.000001,0.001]', False)]]\n",
      "early-stop : [[('[early_stop,int,1,5,20]', False)]]\n"
     ]
    }
   ],
   "source": [
    "for i in gramm.grammar:\n",
    "    print(f'{i} : {gramm.grammar[i]}')"
   ]
  },
  {
   "cell_type": "code",
   "execution_count": 6,
   "metadata": {},
   "outputs": [
    {
     "data": {
      "text/plain": [
       "[('layer:conv', False),\n",
       " ('[num-filters,int,1,32,256]', False),\n",
       " ('[filter-shape,int,1,2,5]', False),\n",
       " ('[stride,int,1,1,3]', False),\n",
       " ('padding', True),\n",
       " ('activation-function', True),\n",
       " ('bias', True)]"
      ]
     },
     "execution_count": 6,
     "metadata": {},
     "output_type": "execute_result"
    }
   ],
   "source": [
    "gramm.grammar['convolution'][0]"
   ]
  },
  {
   "cell_type": "code",
   "execution_count": 16,
   "metadata": {},
   "outputs": [],
   "source": [
    "prova = gramm.initialise('features')"
   ]
  },
  {
   "cell_type": "code",
   "execution_count": 17,
   "metadata": {},
   "outputs": [
    {
     "name": "stdout",
     "output_type": "stream",
     "text": [
      "features : [{'ge': 0, 'ga': {}}]\n",
      "convolution : [{'ge': 0, 'ga': {'num-filters': ('int', 32.0, 256.0, [125]), 'filter-shape': ('int', 2.0, 5.0, [5]), 'stride': ('int', 1.0, 3.0, [3])}}]\n",
      "padding : [{'ge': 1, 'ga': {}}, {'ge': 0, 'ga': {}}]\n",
      "activation-function : [{'ge': 1, 'ga': {}}]\n",
      "bias : [{'ge': 1, 'ga': {}}]\n",
      "pooling : [{'ge': 0, 'ga': {'kernel-size': ('int', 2.0, 5.0, [4]), 'stride': ('int', 1.0, 3.0, [1])}}]\n",
      "pool-type : [{'ge': 0, 'ga': {}}]\n"
     ]
    }
   ],
   "source": [
    "for i in prova:\n",
    "    print(f'{i} : {prova[i]}')"
   ]
  },
  {
   "cell_type": "code",
   "execution_count": 18,
   "metadata": {},
   "outputs": [
    {
     "data": {
      "text/plain": [
       "list"
      ]
     },
     "execution_count": 18,
     "metadata": {},
     "output_type": "execute_result"
    }
   ],
   "source": [
    "type(prova['features'])"
   ]
  },
  {
   "cell_type": "code",
   "execution_count": 19,
   "metadata": {},
   "outputs": [],
   "source": [
    "feat_layers = gramm.decode('features', prova)"
   ]
  },
  {
   "cell_type": "code",
   "execution_count": 20,
   "metadata": {},
   "outputs": [
    {
     "data": {
      "text/plain": [
       "[('conv',\n",
       "  {'num-filters': ['125'],\n",
       "   'filter-shape': ['5'],\n",
       "   'stride': ['3'],\n",
       "   'padding': ['valid'],\n",
       "   'act': ['relu'],\n",
       "   'bias': ['False']}),\n",
       " ('pool-avg', {'kernel-size': ['4'], 'stride': ['1'], 'padding': ['same']})]"
      ]
     },
     "execution_count": 20,
     "metadata": {},
     "output_type": "execute_result"
    }
   ],
   "source": [
    "layer_decoding = t.Evaluator()\n",
    "l_dict = layer_decoding.get_layers(feat_layers) \n",
    "l_dict"
   ]
  },
  {
   "cell_type": "code",
   "execution_count": 21,
   "metadata": {},
   "outputs": [
    {
     "data": {
      "text/plain": [
       "ReLU()"
      ]
     },
     "execution_count": 21,
     "metadata": {},
     "output_type": "execute_result"
    }
   ],
   "source": [
    "def get_act(name):\n",
    "    if name == 'linear':\n",
    "        return nn.Linear()\n",
    "    elif name == 'relu':\n",
    "        return nn.ReLU()\n",
    "    elif name == 'sigmoid':\n",
    "        return nn.Sigmoid()\n",
    "\n",
    "get_act(l_dict[0][1]['act'][0])"
   ]
  },
  {
   "cell_type": "code",
   "execution_count": 22,
   "metadata": {},
   "outputs": [
    {
     "data": {
      "text/plain": [
       "'relu'"
      ]
     },
     "execution_count": 22,
     "metadata": {},
     "output_type": "execute_result"
    }
   ],
   "source": [
    "l_dict[0][1]['act'][0]"
   ]
  },
  {
   "cell_type": "code",
   "execution_count": 61,
   "metadata": {},
   "outputs": [
    {
     "data": {
      "text/plain": [
       "list"
      ]
     },
     "execution_count": 61,
     "metadata": {},
     "output_type": "execute_result"
    }
   ],
   "source": [
    "type(l_dict)"
   ]
  },
  {
   "cell_type": "code",
   "execution_count": 80,
   "metadata": {},
   "outputs": [
    {
     "data": {
      "text/plain": [
       "<module 'tmp' from '/home/alexserra98/uni/prog_deep/Genetics_ANN/GA_for_param_optim/tmp.py'>"
      ]
     },
     "execution_count": 80,
     "metadata": {},
     "output_type": "execute_result"
    }
   ],
   "source": [
    "importlib.reload(t)"
   ]
  },
  {
   "cell_type": "code",
   "execution_count": 81,
   "metadata": {},
   "outputs": [
    {
     "name": "stdout",
     "output_type": "stream",
     "text": [
      "layer_type: conv\n",
      "layer_type: pool-avg\n",
      "----------------------------------------------------------------\n",
      "        Layer (type)               Output Shape         Param #\n",
      "================================================================\n",
      "            Conv2d-1            [-1, 125, 8, 8]           9,375\n",
      "              ReLU-2            [-1, 125, 8, 8]               0\n",
      "         AvgPool2d-3            [-1, 125, 5, 5]               0\n",
      "================================================================\n",
      "Total params: 9,375\n",
      "Trainable params: 9,375\n",
      "Non-trainable params: 0\n",
      "----------------------------------------------------------------\n",
      "Input size (MB): 0.01\n",
      "Forward/backward pass size (MB): 0.15\n",
      "Params size (MB): 0.04\n",
      "Estimated Total Size (MB): 0.19\n",
      "----------------------------------------------------------------\n"
     ]
    }
   ],
   "source": [
    "\n",
    "assembler = t.Evaluator()\n",
    "lay = assembler.assemble_network(l_dict,(28,28,3))"
   ]
  },
  {
   "cell_type": "code",
   "execution_count": 67,
   "metadata": {},
   "outputs": [
    {
     "ename": "NameError",
     "evalue": "name 'lay' is not defined",
     "output_type": "error",
     "traceback": [
      "\u001b[0;31m---------------------------------------------------------------------------\u001b[0m",
      "\u001b[0;31mNameError\u001b[0m                                 Traceback (most recent call last)",
      "\u001b[1;32m/home/alexserra98/uni/prog_deep/Genetics_ANN/GA_for_param_optim/garbage.ipynb Cell 15\u001b[0m in \u001b[0;36m<cell line: 1>\u001b[0;34m()\u001b[0m\n\u001b[0;32m----> <a href='vscode-notebook-cell://wsl%2Bubuntu/home/alexserra98/uni/prog_deep/Genetics_ANN/GA_for_param_optim/garbage.ipynb#X21sdnNjb2RlLXJlbW90ZQ%3D%3D?line=0'>1</a>\u001b[0m \u001b[39mtype\u001b[39m(lay)\n",
      "\u001b[0;31mNameError\u001b[0m: name 'lay' is not defined"
     ]
    }
   ],
   "source": [
    "type(lay)"
   ]
  },
  {
   "cell_type": "code",
   "execution_count": 44,
   "metadata": {},
   "outputs": [
    {
     "data": {
      "text/plain": [
       "(17, 17, 1)"
      ]
     },
     "execution_count": 44,
     "metadata": {},
     "output_type": "execute_result"
    }
   ],
   "source": [
    "def compute_output_conv2d(input_shape,out_channel, kernel_size, stride, padding, dilation=1):\n",
    "    \"\"\"\n",
    "        Compute the output shape after a conv layer.\n",
    "        Parameters\n",
    "        ----------\n",
    "        input_shape : tuple\n",
    "            (width, length, channel)\n",
    "        out_channel : int\n",
    "        kernel_size : int\n",
    "        stride: int\n",
    "        padding : int\n",
    "        dilation : int\n",
    "        \n",
    "        Return\n",
    "        ----------\n",
    "        output : tuple\n",
    "            (width, length, channel)\n",
    "\n",
    "    \"\"\"\n",
    "    if isinstance(input_shape, tuple) and len(input_shape)==3:\n",
    "        return (int((input_shape[0] + 2*padding[0] - dilation[0]*(kernel_size[0]-1) - 1)/stride[0] + 1),\n",
    "            int((input_shape[1] + 2*padding[1] - dilation[1]*(kernel_size[1]-1) - 1)/stride[1] + 1), out_channel)\n",
    "    elif isinstance(input_shape, tuple) and len(input_shape)==2:\n",
    "        return (int((input_shape[0] + 2*padding[0] - dilation[0]*(kernel_size[0]-1) - 1)/stride[0] + 1),\n",
    "            int((input_shape[1] + 2*padding[1] - dilation[1]*(kernel_size[1]-1) - 1)/stride[1] + 1))\n",
    "    else:\n",
    "        return int((input_shape + 2*padding - dilation*(kernel_size-1) - 1)/stride + 1)\n",
    "\n",
    "compute_output_conv2d((28,28,3),1,[1,1],[2,2],[3,3],[1,1])"
   ]
  }
 ],
 "metadata": {
  "kernelspec": {
   "display_name": "Python 3.10.4 ('myenv')",
   "language": "python",
   "name": "python3"
  },
  "language_info": {
   "codemirror_mode": {
    "name": "ipython",
    "version": 3
   },
   "file_extension": ".py",
   "mimetype": "text/x-python",
   "name": "python",
   "nbconvert_exporter": "python",
   "pygments_lexer": "ipython3",
   "version": "3.10.4"
  },
  "orig_nbformat": 4,
  "vscode": {
   "interpreter": {
    "hash": "273c48406751af6277a0bdb291ee674620b66e29f007a13179c473c693907be6"
   }
  }
 },
 "nbformat": 4,
 "nbformat_minor": 2
}
