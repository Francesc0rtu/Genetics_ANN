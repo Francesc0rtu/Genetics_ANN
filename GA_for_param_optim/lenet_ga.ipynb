{
 "cells": [
  {
   "cell_type": "markdown",
   "metadata": {},
   "source": [
    "# ConvNet optimization with GA"
   ]
  },
  {
   "cell_type": "markdown",
   "metadata": {},
   "source": [
    "caveat: Fa schifo, l'ho fatto girare un'ora su kaggle e raggiunge al massimo 50 % di accuracy ed  è moolto lento. L'ho fatto girare solo su un subset di MNIST perchè se no non finiva più"
   ]
  },
  {
   "cell_type": "markdown",
   "metadata": {},
   "source": [
    "### Setup"
   ]
  },
  {
   "cell_type": "code",
   "execution_count": 1,
   "metadata": {},
   "outputs": [
    {
     "name": "stdout",
     "output_type": "stream",
     "text": [
      "Requirement already satisfied: pygad in /home/alexserra98/miniconda3/envs/myenv/lib/python3.10/site-packages (2.18.1)\n",
      "Requirement already satisfied: matplotlib in /home/alexserra98/miniconda3/envs/myenv/lib/python3.10/site-packages (from pygad) (3.5.1)\n",
      "Requirement already satisfied: numpy in /home/alexserra98/miniconda3/envs/myenv/lib/python3.10/site-packages (from pygad) (1.22.3)\n",
      "Requirement already satisfied: cycler>=0.10 in /home/alexserra98/miniconda3/envs/myenv/lib/python3.10/site-packages (from matplotlib->pygad) (0.11.0)\n",
      "Requirement already satisfied: kiwisolver>=1.0.1 in /home/alexserra98/miniconda3/envs/myenv/lib/python3.10/site-packages (from matplotlib->pygad) (1.4.2)\n",
      "Requirement already satisfied: fonttools>=4.22.0 in /home/alexserra98/miniconda3/envs/myenv/lib/python3.10/site-packages (from matplotlib->pygad) (4.33.3)\n",
      "Requirement already satisfied: packaging>=20.0 in /home/alexserra98/miniconda3/envs/myenv/lib/python3.10/site-packages (from matplotlib->pygad) (21.3)\n",
      "Requirement already satisfied: python-dateutil>=2.7 in /home/alexserra98/miniconda3/envs/myenv/lib/python3.10/site-packages (from matplotlib->pygad) (2.8.2)\n",
      "Requirement already satisfied: pillow>=6.2.0 in /home/alexserra98/miniconda3/envs/myenv/lib/python3.10/site-packages (from matplotlib->pygad) (9.0.1)\n",
      "Requirement already satisfied: pyparsing>=2.2.1 in /home/alexserra98/miniconda3/envs/myenv/lib/python3.10/site-packages (from matplotlib->pygad) (3.0.4)\n",
      "Requirement already satisfied: six>=1.5 in /home/alexserra98/miniconda3/envs/myenv/lib/python3.10/site-packages (from python-dateutil>=2.7->matplotlib->pygad) (1.16.0)\n",
      "Collecting torchsummary\n",
      "  Downloading torchsummary-1.5.1-py3-none-any.whl (2.8 kB)\n",
      "Installing collected packages: torchsummary\n",
      "Successfully installed torchsummary-1.5.1\n"
     ]
    }
   ],
   "source": [
    "! pip install pygad\n",
    "! pip install torchsummary"
   ]
  },
  {
   "cell_type": "markdown",
   "metadata": {},
   "source": [
    "Purtroppo pygad usa di default cuda e nella parte di ottimizazione il programma si blocca perchè i weights sono gpu e gli input su cpu. Ho provato a spostare tutto su gpu ma mi crasha il kernel. Per disabilitare cuda:"
   ]
  },
  {
   "cell_type": "code",
   "execution_count": null,
   "metadata": {},
   "outputs": [],
   "source": [
    "!export CUDA_VISIBLE_DEVICES=\"\""
   ]
  },
  {
   "cell_type": "code",
   "execution_count": 2,
   "metadata": {},
   "outputs": [
    {
     "name": "stderr",
     "output_type": "stream",
     "text": [
      "/home/alexserra98/miniconda3/envs/myenv/lib/python3.10/site-packages/tqdm/auto.py:22: TqdmWarning: IProgress not found. Please update jupyter and ipywidgets. See https://ipywidgets.readthedocs.io/en/stable/user_install.html\n",
      "  from .autonotebook import tqdm as notebook_tqdm\n"
     ]
    }
   ],
   "source": [
    "import torch\n",
    "import pygad.torchga\n",
    "import pygad\n",
    "import numpy\n",
    "from torchsummary import summary"
   ]
  },
  {
   "cell_type": "markdown",
   "metadata": {},
   "source": [
    "### Helper functions"
   ]
  },
  {
   "cell_type": "code",
   "execution_count": 3,
   "metadata": {},
   "outputs": [],
   "source": [
    "def fitness_func(solution, sol_idx):\n",
    "    global data_inputs, data_outputs, torch_ga, model, loss_function\n",
    "\n",
    "    predictions = pygad.torchga.predict(model=model, \n",
    "                                        solution=solution, \n",
    "                                        data=data_inputs)\n",
    "\n",
    "    solution_fitness = 1.0 / (loss_function(predictions, data_outputs).detach().numpy() + 0.00000001)\n",
    "\n",
    "    return solution_fitness\n",
    "\n",
    "def callback_generation(ga_instance):\n",
    "    print(\"Generation = {generation}\".format(generation=ga_instance.generations_completed))\n",
    "    print(\"Fitness    = {fitness}\".format(fitness=ga_instance.best_solution()[1]))\n"
   ]
  },
  {
   "cell_type": "markdown",
   "metadata": {},
   "source": [
    "### Model"
   ]
  },
  {
   "cell_type": "code",
   "execution_count": 5,
   "metadata": {},
   "outputs": [],
   "source": [
    "# Build the PyTorch model.\n",
    "input_layer = torch.nn.Conv2d(in_channels=3, out_channels=5, kernel_size=7)\n",
    "relu_layer1 = torch.nn.ReLU()\n",
    "max_pool1 = torch.nn.MaxPool2d(kernel_size=5, stride=5)\n",
    "\n",
    "conv_layer2 = torch.nn.Conv2d(in_channels=5, out_channels=3, kernel_size=3)\n",
    "relu_layer2 = torch.nn.ReLU()\n",
    "\n",
    "flatten_layer1 = torch.nn.Flatten()\n",
    "# The value 768 is pre-computed by tracing the sizes of the layers' outputs.\n",
    "dense_layer1 = torch.nn.Linear(in_features=12, out_features=12)\n",
    "relu_layer3 = torch.nn.ReLU()\n",
    "\n",
    "dense_layer2 = torch.nn.Linear(in_features=12, out_features=10)\n",
    "output_layer = torch.nn.Softmax(1)\n",
    "\n",
    "mylist = [input_layer,\n",
    "         relu_layer1,\n",
    "         max_pool1,\n",
    "         conv_layer2,\n",
    "         relu_layer2,\n",
    "         flatten_layer1,\n",
    "         dense_layer1,\n",
    "         relu_layer3,\n",
    "         dense_layer2,\n",
    "         output_layer]\n",
    "\n",
    "model = torch.nn.Sequential(*mylist)"
   ]
  },
  {
   "cell_type": "code",
   "execution_count": 4,
   "metadata": {},
   "outputs": [
    {
     "name": "stdout",
     "output_type": "stream",
     "text": [
      "==========================================================================================\n",
      "Layer (type:depth-idx)                   Output Shape              Param #\n",
      "==========================================================================================\n",
      "├─Conv2d: 1-1                            [-1, 5, 22, 22]           740\n",
      "├─ReLU: 1-2                              [-1, 5, 22, 22]           --\n",
      "├─MaxPool2d: 1-3                         [-1, 5, 4, 4]             --\n",
      "├─Conv2d: 1-4                            [-1, 3, 2, 2]             138\n",
      "├─ReLU: 1-5                              [-1, 3, 2, 2]             --\n",
      "├─Flatten: 1-6                           [-1, 12]                  --\n",
      "├─Linear: 1-7                            [-1, 12]                  156\n",
      "├─ReLU: 1-8                              [-1, 12]                  --\n",
      "├─Linear: 1-9                            [-1, 10]                  130\n",
      "├─Softmax: 1-10                          [-1, 10]                  --\n",
      "==========================================================================================\n",
      "Total params: 1,164\n",
      "Trainable params: 1,164\n",
      "Non-trainable params: 0\n",
      "Total mult-adds (M): 0.36\n",
      "==========================================================================================\n",
      "Input size (MB): 0.01\n",
      "Forward/backward pass size (MB): 0.02\n",
      "Params size (MB): 0.00\n",
      "Estimated Total Size (MB): 0.03\n",
      "==========================================================================================\n"
     ]
    },
    {
     "data": {
      "text/plain": [
       "==========================================================================================\n",
       "Layer (type:depth-idx)                   Output Shape              Param #\n",
       "==========================================================================================\n",
       "├─Conv2d: 1-1                            [-1, 5, 22, 22]           740\n",
       "├─ReLU: 1-2                              [-1, 5, 22, 22]           --\n",
       "├─MaxPool2d: 1-3                         [-1, 5, 4, 4]             --\n",
       "├─Conv2d: 1-4                            [-1, 3, 2, 2]             138\n",
       "├─ReLU: 1-5                              [-1, 3, 2, 2]             --\n",
       "├─Flatten: 1-6                           [-1, 12]                  --\n",
       "├─Linear: 1-7                            [-1, 12]                  156\n",
       "├─ReLU: 1-8                              [-1, 12]                  --\n",
       "├─Linear: 1-9                            [-1, 10]                  130\n",
       "├─Softmax: 1-10                          [-1, 10]                  --\n",
       "==========================================================================================\n",
       "Total params: 1,164\n",
       "Trainable params: 1,164\n",
       "Non-trainable params: 0\n",
       "Total mult-adds (M): 0.36\n",
       "==========================================================================================\n",
       "Input size (MB): 0.01\n",
       "Forward/backward pass size (MB): 0.02\n",
       "Params size (MB): 0.00\n",
       "Estimated Total Size (MB): 0.03\n",
       "=========================================================================================="
      ]
     },
     "execution_count": 4,
     "metadata": {},
     "output_type": "execute_result"
    }
   ],
   "source": [
    "summary(model,(3,28,28))"
   ]
  },
  {
   "cell_type": "markdown",
   "metadata": {},
   "source": [
    "### Data"
   ]
  },
  {
   "cell_type": "markdown",
   "metadata": {},
   "source": [
    "Il dataset è MNIST ma convertito in .npy, qua trovate dove scaricarlo\n",
    "url: https://www.kaggle.com/datasets/sivasankaru/mnist-npy-file-dataset/versions/1?resource=download"
   ]
  },
  {
   "cell_type": "code",
   "execution_count": 37,
   "metadata": {},
   "outputs": [],
   "source": [
    "data_inputs = torch.from_numpy(numpy.load(\"../input/mnist-npy-file-dataset/train_images.npy\",allow_pickle=True).reshape((60000,28,28))).float()\n",
    "data_outputs = torch.from_numpy(numpy.load(\"../input/mnist-npy-file-dataset/train_labels.npy\", allow_pickle=True)).long()\n",
    "data_inputs = torch.stack((data_inputs,torch.clone(data_inputs),torch.clone(data_inputs)), dim=1)\n",
    "data_inputs=data_inputs[0:10000]\n",
    "data_outputs=data_outputs[0:10000]\n",
    "data_outputs=data_outputs.reshape((10000))\n"
   ]
  },
  {
   "cell_type": "markdown",
   "metadata": {},
   "source": [
    "### GA optimization"
   ]
  },
  {
   "cell_type": "code",
   "execution_count": 5,
   "metadata": {},
   "outputs": [],
   "source": [
    "# Create an instance of the pygad.torchga.TorchGA class to build the initial population.\n",
    "torch_ga = pygad.torchga.TorchGA(model=model,\n",
    "                                 num_solutions=10)\n",
    "\n",
    "loss_function = torch.nn.CrossEntropyLoss()"
   ]
  },
  {
   "cell_type": "code",
   "execution_count": 40,
   "metadata": {},
   "outputs": [
    {
     "ename": "TypeError",
     "evalue": "can't convert cuda:0 device type tensor to numpy. Use Tensor.cpu() to copy the tensor to host memory first.",
     "output_type": "error",
     "traceback": [
      "\u001b[0;31m---------------------------------------------------------------------------\u001b[0m",
      "\u001b[0;31mTypeError\u001b[0m                                 Traceback (most recent call last)",
      "\u001b[1;32m/home/alexserra98/uni/prog_deep/boh.ipynb Cell 8\u001b[0m in \u001b[0;36m<cell line: 14>\u001b[0;34m()\u001b[0m\n\u001b[1;32m      <a href='vscode-notebook-cell://wsl%2Bubuntu/home/alexserra98/uni/prog_deep/boh.ipynb#X10sdnNjb2RlLXJlbW90ZQ%3D%3D?line=6'>7</a>\u001b[0m ga_instance \u001b[39m=\u001b[39m pygad\u001b[39m.\u001b[39mGA(num_generations\u001b[39m=\u001b[39mnum_generations, \n\u001b[1;32m      <a href='vscode-notebook-cell://wsl%2Bubuntu/home/alexserra98/uni/prog_deep/boh.ipynb#X10sdnNjb2RlLXJlbW90ZQ%3D%3D?line=7'>8</a>\u001b[0m                        num_parents_mating\u001b[39m=\u001b[39mnum_parents_mating, \n\u001b[1;32m      <a href='vscode-notebook-cell://wsl%2Bubuntu/home/alexserra98/uni/prog_deep/boh.ipynb#X10sdnNjb2RlLXJlbW90ZQ%3D%3D?line=8'>9</a>\u001b[0m                        initial_population\u001b[39m=\u001b[39minitial_population,\n\u001b[1;32m     <a href='vscode-notebook-cell://wsl%2Bubuntu/home/alexserra98/uni/prog_deep/boh.ipynb#X10sdnNjb2RlLXJlbW90ZQ%3D%3D?line=9'>10</a>\u001b[0m                        fitness_func\u001b[39m=\u001b[39mfitness_func,\n\u001b[1;32m     <a href='vscode-notebook-cell://wsl%2Bubuntu/home/alexserra98/uni/prog_deep/boh.ipynb#X10sdnNjb2RlLXJlbW90ZQ%3D%3D?line=10'>11</a>\u001b[0m                        on_generation\u001b[39m=\u001b[39mcallback_generation)\n\u001b[1;32m     <a href='vscode-notebook-cell://wsl%2Bubuntu/home/alexserra98/uni/prog_deep/boh.ipynb#X10sdnNjb2RlLXJlbW90ZQ%3D%3D?line=12'>13</a>\u001b[0m \u001b[39m# Start the genetic algorithm evolution.\u001b[39;00m\n\u001b[0;32m---> <a href='vscode-notebook-cell://wsl%2Bubuntu/home/alexserra98/uni/prog_deep/boh.ipynb#X10sdnNjb2RlLXJlbW90ZQ%3D%3D?line=13'>14</a>\u001b[0m ga_instance\u001b[39m.\u001b[39;49mrun()\n",
      "File \u001b[0;32m~/miniconda3/envs/myenv/lib/python3.10/site-packages/pygad/pygad.py:1315\u001b[0m, in \u001b[0;36mGA.run\u001b[0;34m(self)\u001b[0m\n\u001b[1;32m   1312\u001b[0m stop_run \u001b[39m=\u001b[39m \u001b[39mFalse\u001b[39;00m\n\u001b[1;32m   1314\u001b[0m \u001b[39m# Measuring the fitness of each chromosome in the population. Save the fitness in the last_generation_fitness attribute.\u001b[39;00m\n\u001b[0;32m-> 1315\u001b[0m \u001b[39mself\u001b[39m\u001b[39m.\u001b[39mlast_generation_fitness \u001b[39m=\u001b[39m \u001b[39mself\u001b[39;49m\u001b[39m.\u001b[39;49mcal_pop_fitness()\n\u001b[1;32m   1317\u001b[0m best_solution, best_solution_fitness, best_match_idx \u001b[39m=\u001b[39m \u001b[39mself\u001b[39m\u001b[39m.\u001b[39mbest_solution(pop_fitness\u001b[39m=\u001b[39m\u001b[39mself\u001b[39m\u001b[39m.\u001b[39mlast_generation_fitness)\n\u001b[1;32m   1319\u001b[0m \u001b[39m# Appending the best solution in the initial population to the best_solutions list.\u001b[39;00m\n",
      "File \u001b[0;32m~/miniconda3/envs/myenv/lib/python3.10/site-packages/pygad/pygad.py:1235\u001b[0m, in \u001b[0;36mGA.cal_pop_fitness\u001b[0;34m(self)\u001b[0m\n\u001b[1;32m   1233\u001b[0m     fitness \u001b[39m=\u001b[39m \u001b[39mself\u001b[39m\u001b[39m.\u001b[39mprevious_generation_fitness[parent_idx]\n\u001b[1;32m   1234\u001b[0m \u001b[39melse\u001b[39;00m:\n\u001b[0;32m-> 1235\u001b[0m     fitness \u001b[39m=\u001b[39m \u001b[39mself\u001b[39;49m\u001b[39m.\u001b[39;49mfitness_func(sol, sol_idx)\n\u001b[1;32m   1236\u001b[0m     \u001b[39mif\u001b[39;00m \u001b[39mtype\u001b[39m(fitness) \u001b[39min\u001b[39;00m GA\u001b[39m.\u001b[39msupported_int_float_types:\n\u001b[1;32m   1237\u001b[0m         \u001b[39mpass\u001b[39;00m\n",
      "\u001b[1;32m/home/alexserra98/uni/prog_deep/boh.ipynb Cell 8\u001b[0m in \u001b[0;36mfitness_func\u001b[0;34m(solution, sol_idx)\u001b[0m\n\u001b[1;32m      <a href='vscode-notebook-cell://wsl%2Bubuntu/home/alexserra98/uni/prog_deep/boh.ipynb#X10sdnNjb2RlLXJlbW90ZQ%3D%3D?line=1'>2</a>\u001b[0m \u001b[39mglobal\u001b[39;00m data_inputs, data_outputs, torch_ga, model, loss_function\n\u001b[1;32m      <a href='vscode-notebook-cell://wsl%2Bubuntu/home/alexserra98/uni/prog_deep/boh.ipynb#X10sdnNjb2RlLXJlbW90ZQ%3D%3D?line=3'>4</a>\u001b[0m predictions \u001b[39m=\u001b[39m pygad\u001b[39m.\u001b[39mtorchga\u001b[39m.\u001b[39mpredict(model\u001b[39m=\u001b[39mmodel, \n\u001b[1;32m      <a href='vscode-notebook-cell://wsl%2Bubuntu/home/alexserra98/uni/prog_deep/boh.ipynb#X10sdnNjb2RlLXJlbW90ZQ%3D%3D?line=4'>5</a>\u001b[0m                                     solution\u001b[39m=\u001b[39msolution, \n\u001b[1;32m      <a href='vscode-notebook-cell://wsl%2Bubuntu/home/alexserra98/uni/prog_deep/boh.ipynb#X10sdnNjb2RlLXJlbW90ZQ%3D%3D?line=5'>6</a>\u001b[0m                                     data\u001b[39m=\u001b[39mdata_inputs)\n\u001b[0;32m----> <a href='vscode-notebook-cell://wsl%2Bubuntu/home/alexserra98/uni/prog_deep/boh.ipynb#X10sdnNjb2RlLXJlbW90ZQ%3D%3D?line=7'>8</a>\u001b[0m solution_fitness \u001b[39m=\u001b[39m \u001b[39m1.0\u001b[39m \u001b[39m/\u001b[39m (loss_function(predictions, data_outputs)\u001b[39m.\u001b[39;49mdetach()\u001b[39m.\u001b[39;49mnumpy() \u001b[39m+\u001b[39m \u001b[39m0.00000001\u001b[39m)\n\u001b[1;32m     <a href='vscode-notebook-cell://wsl%2Bubuntu/home/alexserra98/uni/prog_deep/boh.ipynb#X10sdnNjb2RlLXJlbW90ZQ%3D%3D?line=9'>10</a>\u001b[0m \u001b[39mreturn\u001b[39;00m solution_fitness\n",
      "\u001b[0;31mTypeError\u001b[0m: can't convert cuda:0 device type tensor to numpy. Use Tensor.cpu() to copy the tensor to host memory first."
     ]
    }
   ],
   "source": [
    "# Prepare the PyGAD parameters. Check the documentation for more information: https://pygad.readthedocs.io/en/latest/README_pygad_ReadTheDocs.html#pygad-ga-class\n",
    "num_generations = 200 # Number of generations.\n",
    "num_parents_mating = 5 # Number of solutions to be selected as parents in the mating pool.\n",
    "initial_population = torch_ga.population_weights # Initial population of network weights.\n",
    "\n",
    "# Create an instance of the pygad.GA class\n",
    "ga_instance = pygad.GA(num_generations=num_generations, \n",
    "                       num_parents_mating=num_parents_mating, \n",
    "                       initial_population=initial_population,\n",
    "                       fitness_func=fitness_func,\n",
    "                       on_generation=callback_generation)\n",
    "\n",
    "# Start the genetic algorithm evolution.\n",
    "ga_instance.run()"
   ]
  },
  {
   "cell_type": "markdown",
   "metadata": {},
   "source": [
    "### Eval"
   ]
  },
  {
   "cell_type": "code",
   "execution_count": 1,
   "metadata": {},
   "outputs": [
    {
     "name": "stderr",
     "output_type": "stream",
     "text": [
      "/home/alexserra98/miniconda3/envs/myenv/lib/python3.10/site-packages/tqdm/auto.py:22: TqdmWarning: IProgress not found. Please update jupyter and ipywidgets. See https://ipywidgets.readthedocs.io/en/stable/user_install.html\n",
      "  from .autonotebook import tqdm as notebook_tqdm\n"
     ]
    },
    {
     "ename": "",
     "evalue": "",
     "output_type": "error",
     "traceback": [
      "\u001b[1;31mCanceled future for execute_request message before replies were done"
     ]
    },
    {
     "ename": "",
     "evalue": "",
     "output_type": "error",
     "traceback": [
      "\u001b[1;31mThe Kernel crashed while executing code in the the current cell or a previous cell. Please review the code in the cell(s) to identify a possible cause of the failure. Click <a href='https://aka.ms/vscodeJupyterKernelCrash'>here</a> for more info. View Jupyter <a href='command:jupyter.viewOutput'>log</a> for further details."
     ]
    }
   ],
   "source": [
    "# After the generations complete, some plots are showed that summarize how the outputs/fitness values evolve over generations.\n",
    "ga_instance.plot_fitness(title=\"PyGAD & PyTorch - Iteration vs. Fitness\", linewidth=4)\n",
    "\n",
    "# Returning the details of the best solution.\n",
    "solution, solution_fitness, solution_idx = ga_instance.best_solution()\n",
    "print(\"Fitness value of the best solution = {solution_fitness}\".format(solution_fitness=solution_fitness))\n",
    "print(\"Index of the best solution : {solution_idx}\".format(solution_idx=solution_idx))\n",
    "\n",
    "predictions = pygad.torchga.predict(model=model, \n",
    "                                    solution=solution, \n",
    "                                    data=test_inputs)\n",
    "# print(\"Predictions : \\n\", predictions)\n",
    "\n",
    "# Calculate the crossentropy for the trained model.\n",
    "print(\"Crossentropy : \", loss_function(predictions, test_outputs).detach().numpy())\n",
    "\n",
    "# Calculate the classification accuracy for the trained model.\n",
    "accuracy = torch.true_divide(torch.sum(torch.max(predictions, axis=1).indices == test_outputs), len(test_outputs))\n",
    "print(\"Accuracy : \", accuracy.detach().numpy())"
   ]
  }
 ],
 "metadata": {
  "kernelspec": {
   "display_name": "Python 3.10.4 ('myenv')",
   "language": "python",
   "name": "python3"
  },
  "language_info": {
   "codemirror_mode": {
    "name": "ipython",
    "version": 3
   },
   "file_extension": ".py",
   "mimetype": "text/x-python",
   "name": "python",
   "nbconvert_exporter": "python",
   "pygments_lexer": "ipython3",
   "version": "3.10.4"
  },
  "orig_nbformat": 4,
  "vscode": {
   "interpreter": {
    "hash": "273c48406751af6277a0bdb291ee674620b66e29f007a13179c473c693907be6"
   }
  }
 },
 "nbformat": 4,
 "nbformat_minor": 2
}
