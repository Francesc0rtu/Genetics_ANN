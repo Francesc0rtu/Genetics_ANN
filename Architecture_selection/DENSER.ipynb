{
 "cells": [
  {
   "cell_type": "markdown",
   "metadata": {},
   "source": [
    "# DENSER\n",
    "My implementation of DENSER, a method for architecture selection in neural networks. The paper can be found [here](https://arxiv.org/abs/2004.11002).\n"
   ]
  },
  {
   "cell_type": "code",
   "execution_count": 113,
   "metadata": {},
   "outputs": [],
   "source": [
    "import torch\n",
    "import torchvision\n",
    "import torchvision.transforms as transforms\n",
    "import os\n",
    "import torch.nn as nn\n",
    "import torch.nn.functional as F\n",
    "import torch.optim as optim\n",
    "import numpy as np\n",
    "import matplotlib.pyplot as plt\n",
    "from enum import Enum\n",
    "from scripts import utils\n",
    "\n",
    "%load_ext autoreload\n",
    "%autoreload 2"
   ]
  },
  {
   "cell_type": "markdown",
   "metadata": {},
   "source": [
    "Sketch of grammar for denser:\n",
    "[[], [], [], [], []] "
   ]
  },
  {
   "cell_type": "code",
   "execution_count": 140,
   "metadata": {},
   "outputs": [],
   "source": [
    "class DSGE_types(Enum):\n",
    "    POOLING = 1\n",
    "    CONV = 2\n",
    "    ACTIVATION = 3\n",
    "\n",
    "class DSGE_pooling(Enum):\n",
    "    MAX = 1\n",
    "    AVG = 2\n",
    "\n",
    "class DSGE_activation(Enum):\n",
    "    RELU = 1\n",
    "    SIGMOID = 2\n",
    "    TANH = 3\n",
    "\n",
    "class DSGE_genes:\n",
    "    \"DSGE_encoding class. The DSGE_encoding is composed of a list of genes.\"\n",
    "    def __init__(self, type=None, c_in=None, c_out=None, param=None):\n",
    "        if type is None:\n",
    "            self.random_init()\n",
    "        else:\n",
    "            self.init_form_encoding(type, param)\n",
    "        \n",
    "        if self.type == DSGE_types.CONV:\n",
    "            if(c_in is not None):\n",
    "                self.c_out = utils.compute_output_conv2d(c_in, self.param['kernel_size'], self.param['stride'], self.param['padding'], 1)\n",
    "                self.c_in = c_in\n",
    "            if(c_out is not None):\n",
    "                self.c_in = utils.compute_input_conv2d(c_out, self.param['kernel_size'], self.param['stride'], self.param['padding'], 1)\n",
    "                self.c_out = c_out\n",
    "        else:\n",
    "            if(c_in is not None):\n",
    "                self.c_out = c_in\n",
    "                self.c_in = c_in\n",
    "            if(c_out is not None):\n",
    "                self.c_in = c_out\n",
    "                self.c_out = c_out\n",
    "        \n",
    "        self.channels = {'in': self.c_in, 'out': self.c_out}\n",
    "        \n",
    "    def random_init(self):\n",
    "        self.type = DSGE_types(np.random.randint(1, 4))\n",
    "        print(self.type)\n",
    "        if self.type == DSGE_types.POOLING:\n",
    "            self.param = DSGE_pooling(np.random.randint(1, 3))\n",
    "        elif self.type == DSGE_types.CONV:\n",
    "            self.param = {'kernel_size': np.random.randint(1, 4), 'stride': np.random.randint(1, 4), 'padding': np.random.randint(1, 4)}\n",
    "        elif self.type == DSGE_types.ACTIVATION:\n",
    "            self.param = DSGE_activation(np.random.randint(1, 4))\n",
    "    def init_form_encoding(self, type, param=None):\n",
    "        self.type = type\n",
    "        if param is None:\n",
    "            if self.type == DSGE_types.POOLING:\n",
    "               self.param = DSGE_pooling(np.random.randint(1, 3))\n",
    "            elif self.type == DSGE_types.CONV:\n",
    "               self.param = {'kernel_size': np.random.randint(1, 4), 'stride': np.random.randint(1, 4), 'padding': np.random.randint(1, 4)}\n",
    "            elif self.type == DSGE_types.ACTIVATION:\n",
    "               self.param = DSGE_activation(np.random.randint(1, 4))\n",
    "        \n",
    "    def get(self):\n",
    "        return self.type, self.param, self.channels\n",
    "\n"
   ]
  },
  {
   "cell_type": "code",
   "execution_count": 171,
   "metadata": {},
   "outputs": [],
   "source": [
    "class GA_types(Enum):\n",
    "    FEATURES = 1\n",
    "    CLASSIFICATION = 2\n",
    "\n",
    "class GA_genes:\n",
    "    \"GA_encoding class. The GA_encoding is composed of a list of genes.\"\n",
    "    def __init__(self, GA_type, dsge_len=4, c_in=None, c_out=None):\n",
    "        self.GA_type = GA_type\n",
    "        self.dsge_len = dsge_len\n",
    "        self.dsge_encoding = []\n",
    "        \n",
    "\n",
    "        if( c_in is not None):\n",
    "            if self.GA_type == GA_types.FEATURES:\n",
    "                self.dsge_encoding.append(DSGE_genes(DSGE_types.CONV, c_in=c_in))\n",
    "                self.dsge_encoding.append(DSGE_genes(DSGE_types.ACTIVATION, c_in=self.dsge_encoding[-1].channels['out']))\n",
    "                self.dsge_encoding.append(DSGE_genes(DSGE_types.POOLING, c_in=self.dsge_encoding[-1].channels['out'] ) )\n",
    "                c_out = self.dsge_encoding[-1].channels['out']\n",
    "        elif( c_out is not None):\n",
    "            if self.GA_type == GA_types.CLASSIFICATION:\n",
    "                self.dsge_encoding.append(DSGE_genes(DSGE_types.CONV, c_out=c_out))\n",
    "                self.dsge_encoding.append(DSGE_genes(DSGE_types.ACTIVATION, c_out=c_out))\n",
    "                self.dsge_encoding.append(DSGE_genes(DSGE_types.POOLING, c_out=c_out ) )\n",
    "                c_in = self.dsge_encoding[-1].channels['in']\n",
    "        self.param = {'input_channels': c_in, 'output_channels': c_out}\n",
    "    def get(self):\n",
    "        return self.GA_type, self.dsge_encoding, self.param\n",
    "    def print(self):\n",
    "        print( self.GA_type)\n",
    "        for i in range(len(self.dsge_encoding)):\n",
    "            print( self.dsge_encoding[i].get())\n",
    "        print(\"param: \", self.param)\n",
    "            "
   ]
  },
  {
   "cell_type": "code",
   "execution_count": 168,
   "metadata": {},
   "outputs": [],
   "source": [
    "class Net_encoding:\n",
    "    def __init__(self, len, num_features, num_classification, c_in, c_out):\n",
    "        self.len = len\n",
    "        self.num_features = num_features\n",
    "        self.num_classification = num_classification\n",
    "        self.GA_encoding = []\n",
    "        tmp1 = c_in\n",
    "        for i in range(self.num_features):\n",
    "            self.GA_encoding.append(GA_genes(GA_types.FEATURES, c_in=tmp1))\n",
    "            tmp1 = self.GA_encoding[-1].param['output_channels']\n",
    "        for i in range(self.num_classification):\n",
    "            self.GA_encoding.append(GA_genes(GA_types.CLASSIFICATION))\n",
    "        \n",
    "        self.param = {'input_channels': c_in, 'output_channels': c_out}\n",
    "    def get(self):\n",
    "        return self.GA_encoding\n",
    "    def print(self):\n",
    "        for i in range(self.len):\n",
    "            print( self.GA_encoding[i].print())"
   ]
  },
  {
   "cell_type": "code",
   "execution_count": 183,
   "metadata": {},
   "outputs": [
    {
     "name": "stdout",
     "output_type": "stream",
     "text": [
      "GA_types.FEATURES\n",
      "(<DSGE_types.CONV: 2>, {'kernel_size': 2, 'stride': 1, 'padding': 1}, {'in': 3, 'out': 4})\n",
      "(<DSGE_types.ACTIVATION: 3>, <DSGE_activation.RELU: 1>, {'in': 4, 'out': 4})\n",
      "(<DSGE_types.POOLING: 1>, <DSGE_pooling.AVG: 2>, {'in': 4, 'out': 4})\n",
      "param:  {'input_channels': 3, 'output_channels': 4}\n",
      "None\n",
      "GA_types.FEATURES\n",
      "(<DSGE_types.CONV: 2>, {'kernel_size': 3, 'stride': 1, 'padding': 1}, {'in': 4, 'out': 4})\n",
      "(<DSGE_types.ACTIVATION: 3>, <DSGE_activation.SIGMOID: 2>, {'in': 4, 'out': 4})\n",
      "(<DSGE_types.POOLING: 1>, <DSGE_pooling.AVG: 2>, {'in': 4, 'out': 4})\n",
      "param:  {'input_channels': 4, 'output_channels': 4}\n",
      "None\n",
      "GA_types.CLASSIFICATION\n",
      "param:  {'input_channels': None, 'output_channels': None}\n",
      "None\n"
     ]
    }
   ],
   "source": [
    "Net = Net_encoding(3, 2, 5, 3, 10)\n",
    "Net.print()"
   ]
  },
  {
   "cell_type": "code",
   "execution_count": null,
   "metadata": {},
   "outputs": [],
   "source": [
    "class Net(nn.Module):\n",
    "    def __init__(self, Net_encod):\n",
    "        self.layers = nn.Sequential ()\n",
    "        for i in range(Net_encod.len):\n",
    "            for j in range(Net_encod.GA_encoding[i].dsge_len):\n",
    "                self.layers.add_module(self.make_layer(Net_encod.GA_encoding[i].dsge_encoding[j].get()))\n",
    "            \n",
    "    \n",
    "    def make_layer(self, GA_encod):\n",
    "            "
   ]
  },
  {
   "cell_type": "code",
   "execution_count": 31,
   "metadata": {},
   "outputs": [],
   "source": [
    "class Block(nn.Module):\n",
    "    def __init__(self, gene, in_channels, out_channels, kernel_size, stride, padding, bias=False):\n",
    "        super(Block, self).__init__()\n",
    "       \n",
    "\n",
    "    def forward(self, x):\n",
    "        return \n",
    "\n",
    "\n",
    "\n",
    "class Net(nn.Module):\n",
    "    \"Net class for DENSER architecture: each layer is a block of convolutions, with a variable number of convolutions per block\"\n",
    "    def __init__(self, GA_encoding, c_input, c_output):\n",
    "        super(Net, self).__init__()\n",
    "        self.GA_encoding = GA_encoding\n",
    "\n",
    "        self.layers = nn.Sequential()\n",
    "        for i, gene in enumerate(GA_encoding):\n",
    "            block = Block(gene)\n",
    "            self.layers.add_module('block%d' % (i + 1), block)        \n",
    "\n",
    "        self.classifier = nn.Linear(10, c_output)\n",
    "    def forward(self, x):\n",
    "        x = self.layers(x)\n",
    "        x = torch.flatten(x, 1)\n",
    "        x = self.classifier(x)\n",
    "        return x\n",
    "\n",
    "\n",
    "class individual:\n",
    "    \"Individuals class. The individuals are composed of a network and an GA_encoding.\"\n",
    "    def __init__(self, GA_encoding):\n",
    "        self.GA_encoding = GA_encoding\n",
    "        self.net = Net(GA_encoding, 3, 10)\n",
    "\n"
   ]
  },
  {
   "cell_type": "code",
   "execution_count": 70,
   "metadata": {},
   "outputs": [
    {
     "name": "stdout",
     "output_type": "stream",
     "text": [
      "(<DSGE_types.ACTIVATION: 3>, <DSGE_activation.SIGMOID: 2>)\n"
     ]
    }
   ],
   "source": [
    "gene = _DSGE_genes()\n",
    "gene.random_init()\n",
    "print(gene.get())"
   ]
  }
 ],
 "metadata": {
  "kernelspec": {
   "display_name": "Python 3.9.13 ('deep_le')",
   "language": "python",
   "name": "python3"
  },
  "language_info": {
   "codemirror_mode": {
    "name": "ipython",
    "version": 3
   },
   "file_extension": ".py",
   "mimetype": "text/x-python",
   "name": "python",
   "nbconvert_exporter": "python",
   "pygments_lexer": "ipython3",
   "version": "3.9.13"
  },
  "orig_nbformat": 4,
  "vscode": {
   "interpreter": {
    "hash": "a142b7d21e8575b7566c168744f24153333bb674c4e2523209192565d5391819"
   }
  }
 },
 "nbformat": 4,
 "nbformat_minor": 2
}
