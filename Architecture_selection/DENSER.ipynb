{
 "cells": [
  {
   "cell_type": "markdown",
   "metadata": {},
   "source": [
    "# DENSER\n",
    "My implementation of DENSER, a method for architecture selection in neural networks. The paper can be found [here](https://arxiv.org/abs/2004.11002).\n"
   ]
  },
  {
   "cell_type": "code",
   "execution_count": 1,
   "metadata": {},
   "outputs": [],
   "source": [
    "import torch\n",
    "import torchvision\n",
    "import torchvision.transforms as transforms\n",
    "import os\n",
    "import torch.nn as nn\n",
    "import torch.nn.functional as F\n",
    "import torch.optim as optim\n",
    "import numpy as np\n",
    "import matplotlib.pyplot as plt\n"
   ]
  },
  {
   "cell_type": "markdown",
   "metadata": {},
   "source": [
    "Sketch of grammar for denser:\n",
    "[[], [], [], [], []] "
   ]
  },
  {
   "cell_type": "code",
   "execution_count": 31,
   "metadata": {},
   "outputs": [],
   "source": [
    "class Block(nn.Module):\n",
    "    def __init__(self, gene, in_channels, out_channels, kernel_size, stride, padding, bias=False):\n",
    "        super(Block, self).__init__()\n",
    "       \n",
    "\n",
    "    def forward(self, x):\n",
    "        return \n",
    "\n",
    "\n",
    "\n",
    "class Net(nn.Module):\n",
    "    \"Net class for DENSER architecture: each layer is a block of convolutions, with a variable number of convolutions per block\"\n",
    "    def __init__(self, GA_encoding, c_input, c_output):\n",
    "        super(Net, self).__init__()\n",
    "        self.GA_encoding = GA_encoding\n",
    "\n",
    "        self.layers = nn.Sequential()\n",
    "        for i, gene in enumerate(GA_encoding):\n",
    "            block = Block(gene)\n",
    "            self.layers.add_module('block%d' % (i + 1), block)        \n",
    "\n",
    "        self.classifier = nn.Linear(10, c_output)\n",
    "    def forward(self, x):\n",
    "        x = self.layers(x)\n",
    "        x = torch.flatten(x, 1)\n",
    "        x = self.classifier(x)\n",
    "        return x\n",
    "\n",
    "\n",
    "class individual:\n",
    "    \"Individuals class. The individuals are composed of a network and an GA_encoding.\"\n",
    "    def __init__(self, GA_encoding):\n",
    "        self.GA_encoding = GA_encoding\n",
    "        self.net = Net(GA_encoding, 3, 10)\n",
    "\n",
    "class GA_genes:\n",
    "    \"GA_encoding class. The GA_encoding is composed of a list of genes.\"\n",
    "    def __init__(self, type):\n",
    "        self.type = [\"features\", \"classifications\"]\n",
    "\n",
    "class DSGE_genes:\n",
    "    \"DSGE_encoding class. The DSGE_encoding is composed of a list of genes.\"\n",
    "    def __init__(self):\n",
    "        self.types = [\"pooling\", \"activation\", \"convolution\"]\n",
    "    def init_parameters(self, type):\n",
    "        if(type == 'pooling'):\n",
    "            self.parameters = [\"max\", \"avg\"]\n",
    "        if(type == 'activation'):\n",
    "            self.parameters = [\"relu\", \"sigmoid\", \"tanh\"]\n",
    "        if(type == 'convolution'):\n",
    "            self.parameters = [\"kernel_size\", \"stride\", \"padding\"]\n",
    "    \n",
    "    def random_init(self):\n",
    "        self.type = self.types[np.random.randint(0, len(self.types))]\n",
    "        self.random_init_param()\n",
    "\n",
    "    def random_init_param(self):\n",
    "        self.init_parameters(self.type)\n",
    "        if(self.type == 'convolution'):\n",
    "            self.parameter = [np.random.randint(1, 5), np.random.randint(1, 5), np.random.randint(0, 2)]\n",
    "        else:\n",
    "            self.parameter = self.parameters[np.random.randint(0, len(self.parameters))]\n",
    "\n",
    "    def init_from_encoding(self,type, param=None):\n",
    "        self.type = type\n",
    "        if param is not None:\n",
    "            self.parameter = param\n",
    "        else:\n",
    "            self.random_init_param()\n",
    "            \n",
    "    def get(self):\n",
    "        return self.type, self.parameter\n"
   ]
  },
  {
   "cell_type": "code",
   "execution_count": 47,
   "metadata": {},
   "outputs": [
    {
     "name": "stdout",
     "output_type": "stream",
     "text": [
      "('pooling', 'avg')\n"
     ]
    }
   ],
   "source": [
    "gene = DSGE_genes()\n",
    "gene.random_init()\n",
    "print(gene.get())"
   ]
  }
 ],
 "metadata": {
  "kernelspec": {
   "display_name": "Python 3.9.13 ('deep_le')",
   "language": "python",
   "name": "python3"
  },
  "language_info": {
   "codemirror_mode": {
    "name": "ipython",
    "version": 3
   },
   "file_extension": ".py",
   "mimetype": "text/x-python",
   "name": "python",
   "nbconvert_exporter": "python",
   "pygments_lexer": "ipython3",
   "version": "3.9.13"
  },
  "orig_nbformat": 4,
  "vscode": {
   "interpreter": {
    "hash": "a142b7d21e8575b7566c168744f24153333bb674c4e2523209192565d5391819"
   }
  }
 },
 "nbformat": 4,
 "nbformat_minor": 2
}
