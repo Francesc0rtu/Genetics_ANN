{
 "cells": [
  {
   "cell_type": "markdown",
   "metadata": {},
   "source": [
    "# DENSER\n",
    "My implementation of DENSER, a method for architecture selection in neural networks. The paper can be found [here](https://arxiv.org/abs/2004.11002).\n"
   ]
  },
  {
   "cell_type": "markdown",
   "metadata": {},
   "source": [
    "## TO DO:\n",
    "- [ ] Implement crossover in GA class\n",
    "- [ ] Implement crossover in DSGE class\n",
    "- [ ] Implement mutation in GA class\n",
    "- [ ] Implement genetic algorithm"
   ]
  },
  {
   "cell_type": "code",
   "execution_count": 113,
   "metadata": {},
   "outputs": [],
   "source": [
    "import torch\n",
    "import torchvision\n",
    "import torchvision.transforms as transforms\n",
    "import os\n",
    "import torch.nn as nn\n",
    "import torch.nn.functional as F\n",
    "import torch.optim as optim\n",
    "import numpy as np\n",
    "import matplotlib.pyplot as plt\n",
    "from enum import Enum\n",
    "from scripts import utils\n",
    "\n",
    "%load_ext autoreload\n",
    "%autoreload 2"
   ]
  },
  {
   "cell_type": "markdown",
   "metadata": {},
   "source": [
    "## Build the encoder from the DENSER paper "
   ]
  },
  {
   "cell_type": "markdown",
   "metadata": {},
   "source": [
    "Fristly we define the lower lavel of the grammatic: a DSGE gene. This class encode a single layer from all the possible one (conv, pool, activation). \n",
    "In addition, the class compute the input channels and the output channels of the layer, which depends on the kernel size and the padding."
   ]
  },
  {
   "cell_type": "code",
   "execution_count": 293,
   "metadata": {},
   "outputs": [],
   "source": [
    "class DSGE_types(Enum):\n",
    "    \"Layer types for DSGE.\"\n",
    "    POOLING = 1\n",
    "    CONV = 2\n",
    "    ACTIVATION = 3\n",
    "    LINEAR = 4\n",
    "\n",
    "class DSGE_pooling(Enum):\n",
    "    \"Pooling types for DSGE.\"\n",
    "    MAX = 1\n",
    "    AVG = 2\n",
    "\n",
    "class DSGE_activation(Enum):\n",
    "    \"Activation types for DSGE.\"\n",
    "    RELU = 1\n",
    "    SIGMOID = 2\n",
    "    TANH = 3\n",
    "\n",
    "class DSGE_genes:\n",
    "    \"DSGE_encoding class. The DSGE_encoding is composed of a list of genes.\"\n",
    "    def __init__(self, type=None, c_in=None, c_out=None, param=None):\n",
    "        if type is None: # Random init, no type specified (could be pooling, conv, activation, linear)\n",
    "            self.random_init()\n",
    "        else:\n",
    "            self.init_form_encoding(type, param)\n",
    "        \n",
    "        if self.type == DSGE_types.CONV:    #if conv, compute the number of channels knowing the input or output channels\n",
    "            if(c_in is not None):\n",
    "                self.c_out = utils.compute_output_conv2d(c_in, self.param['kernel_size'], self.param['stride'], self.param['padding'], 1)\n",
    "                self.c_in = c_in\n",
    "            elif(c_out is not None):\n",
    "                self.c_in = utils.compute_input_conv2d(c_out, self.param['kernel_size'], self.param['stride'], self.param['padding'], 1)\n",
    "                self.c_out = c_out\n",
    "        else:                       #if not conv, the number of channels is the same as the input\n",
    "            if(c_out is None):      \n",
    "                self.c_out = c_in\n",
    "                self.c_in = c_in\n",
    "            elif(c_in is None):\n",
    "                self.c_in = c_out\n",
    "                self.c_out = c_out\n",
    "            else:\n",
    "                self.c_in = c_in\n",
    "                self.c_out = c_out\n",
    "                \n",
    "        ######################################################################\n",
    "        # FORSE DA AGGIUSTARE PER IL POOLING ########################3#########\n",
    "        #######################################################################\n",
    "\n",
    "        self.channels = {'in': self.c_in, 'out': self.c_out}\n",
    "        \n",
    "    def random_init(self):\n",
    "        self.type = DSGE_types(np.random.randint(1, 5))  #randomly choose a type\n",
    "        self.random_init_param()                  #randomly choose the parameters of the type\n",
    "\n",
    "    def random_init_param(self):\n",
    "        if self.type == DSGE_types.POOLING:           #randomly choose a pooling type\n",
    "            self.param = {\"pool_type\" : DSGE_pooling(np.random.randint(1, 3)), \"kernel_size\": np.random.randint(2, 5), \"stride\": np.random.randint(1, 3), \"padding\": np.random.randint(0, 2)}\n",
    "        elif self.type == DSGE_types.CONV:         #randomly choose a kernel size, stride and padding\n",
    "            self.param = {'kernel_size': np.random.randint(1, 4), 'stride': np.random.randint(1, 4), 'padding': np.random.randint(1, 4)}\n",
    "        elif self.type == DSGE_types.ACTIVATION:   #randomly choose an activation type\n",
    "            self.param = DSGE_activation(np.random.randint(1, 4))\n",
    "        elif self.type == DSGE_types.LINEAR:     #linear layer has no parameters\n",
    "            self.param = None\n",
    "    \n",
    "    def init_form_encoding(self, type, param=None):\n",
    "        self.type = type   #set the type\n",
    "        if param is None:   #if no parameters are specified, randomly choose them\n",
    "            self.random_init_param()\n",
    "        \n",
    "    def get(self):  #return the gene\n",
    "        return self.type, self.param, self.channels\n",
    "\n"
   ]
  },
  {
   "cell_type": "markdown",
   "metadata": {},
   "source": [
    "Then we are ready to encode the outer levels, the GA types, which describe a single block of the network (a sequence of DSGE genes). A block could be a features block (conv, pool, activation) or a classifier block (linear, activation). The GA types are encoded in the class GA_type."
   ]
  },
  {
   "cell_type": "code",
   "execution_count": 294,
   "metadata": {},
   "outputs": [],
   "source": [
    "class GA_types(Enum):\n",
    "    \"Layer types for GA.\"\n",
    "    FEATURES = 1\n",
    "    CLASSIFICATION = 2\n",
    "\n",
    "class GA_genes:\n",
    "    \"GA_encoding class. The GA_encoding is composed of a list of genes.\"\n",
    "    def __init__(self, GA_type, c_in=None, c_out=None):\n",
    "        self.GA_type = GA_type #set the type\n",
    "        self.dsge_encoding = []\n",
    "        self.dsge_len = 3 if GA_type == GA_types.FEATURES else 2\n",
    "\n",
    "        if( c_in is not None):  #if the input channels are specified, set them\n",
    "            if self.GA_type == GA_types.FEATURES: #if the type is features we have a conv then activation and then pooling layer\n",
    "                self.dsge_encoding.append(DSGE_genes(DSGE_types.CONV, c_in=c_in))\n",
    "                self.dsge_encoding.append(DSGE_genes(DSGE_types.ACTIVATION, c_in=self.dsge_encoding[-1].channels['out']))\n",
    "                self.dsge_encoding.append(DSGE_genes(DSGE_types.POOLING, c_in=self.dsge_encoding[-1].channels['out'] ) )\n",
    "            if self.GA_type == GA_types.CLASSIFICATION: #if the type is classification we have a linear layer and then an activation layer\n",
    "                self.dsge_encoding.append(DSGE_genes(DSGE_types.LINEAR, c_in=c_in, c_out=c_out))\n",
    "                self.dsge_encoding.append(DSGE_genes(DSGE_types.ACTIVATION, c_in=c_in, c_out=c_out))\n",
    "            c_out = self.dsge_encoding[-1].channels['out']\n",
    "        elif( c_out is not None): #if the output channels are specified, set them\n",
    "            if self.GA_type == GA_types.FEATURES:\n",
    "                self.dsge_encoding.append(DSGE_genes(DSGE_types.CONV, c_out=c_out))\n",
    "                self.dsge_encoding.append(DSGE_genes(DSGE_types.ACTIVATION, c_out=c_out))\n",
    "                self.dsge_encoding.append(DSGE_genes(DSGE_types.POOLING, c_out=c_out ) )\n",
    "            if self.GA_type == GA_types.CLASSIFICATION:\n",
    "                self.dsge_encoding.append(DSGE_genes(DSGE_types.LINEAR, c_in=c_in, c_out=c_out))\n",
    "                self.dsge_encoding.append(DSGE_genes(DSGE_types.ACTIVATION, c_in=c_in, c_out=c_out))\n",
    "            c_in = self.dsge_encoding[-1].channels['in']\n",
    "\n",
    "        self.param = {'input_channels': c_in, 'output_channels': c_out}\n",
    "\n",
    "    def get(self):\n",
    "        return self.GA_type, self.dsge_encoding, self.param\n",
    "\n",
    "    def print(self): #print the GA_encoding\n",
    "        print( self.GA_type)\n",
    "        for i in range(len(self.dsge_encoding)):\n",
    "            print( self.dsge_encoding[i].get())\n",
    "        print(\"param: \", self.param)\n",
    "            "
   ]
  },
  {
   "cell_type": "markdown",
   "metadata": {},
   "source": [
    "Finally, we encode the whole network, the GA, which is a sequence of GA types:"
   ]
  },
  {
   "cell_type": "code",
   "execution_count": 295,
   "metadata": {},
   "outputs": [],
   "source": [
    "class Net_encoding:\n",
    "    \"Describe the encoding of a network.\"\n",
    "    def __init__(self, num_features, num_classification, c_in, c_out):\n",
    "        self.len = num_features + num_classification #the length of the encoding is the number of features block and classification block\n",
    "        self.num_features = num_features \n",
    "        self.num_classification = num_classification\n",
    "        self.GA_encoding = []\n",
    "        self.param = {'input_channels': c_in, 'output_channels': c_out} \n",
    "        tmp1 = c_in\n",
    "        for i in range(self.num_features):\n",
    "            self.GA_encoding.append(GA_genes(GA_types.FEATURES, c_in=tmp1))\n",
    "            tmp1 = self.GA_encoding[-1].param['output_channels']\n",
    "        for i in range(self.num_classification-1):\n",
    "            self.GA_encoding.append(GA_genes(GA_types.CLASSIFICATION, c_in=tmp1, c_out=np.random.randint(3, 20)))\n",
    "            tmp1 = self.GA_encoding[-1].param['output_channels']\n",
    "        self.GA_encoding.append(GA_genes(GA_types.CLASSIFICATION, c_in=tmp1, c_out=c_out))\n",
    "        \n",
    "    def get(self):\n",
    "        return self.GA_encoding\n",
    "        \n",
    "    def print(self):\n",
    "        print(\"Net encoding len:\", self.len)\n",
    "        for i in range(self.len):\n",
    "            print( self.GA_encoding[i].print())"
   ]
  },
  {
   "cell_type": "markdown",
   "metadata": {},
   "source": [
    "Let's try to build a network with 4 features blocks and 2 classifier blocks, with a 3 channel input (a standard RGB image) and a 10 channel output (class of CIFAR-10):"
   ]
  },
  {
   "cell_type": "code",
   "execution_count": 312,
   "metadata": {},
   "outputs": [
    {
     "name": "stdout",
     "output_type": "stream",
     "text": [
      "Net encoding len: 6\n",
      "GA_types.FEATURES\n",
      "(<DSGE_types.CONV: 2>, {'kernel_size': 3, 'stride': 2, 'padding': 2}, {'in': 3, 'out': 3})\n",
      "(<DSGE_types.ACTIVATION: 3>, <DSGE_activation.TANH: 3>, {'in': 3, 'out': 3})\n",
      "(<DSGE_types.POOLING: 1>, {'pool_type': <DSGE_pooling.AVG: 2>, 'kernel_size': 2, 'stride': 1, 'padding': 1}, {'in': 3, 'out': 3})\n",
      "param:  {'input_channels': 3, 'output_channels': 3}\n",
      "None\n",
      "GA_types.FEATURES\n",
      "(<DSGE_types.CONV: 2>, {'kernel_size': 1, 'stride': 3, 'padding': 1}, {'in': 3, 'out': 2})\n",
      "(<DSGE_types.ACTIVATION: 3>, <DSGE_activation.SIGMOID: 2>, {'in': 2, 'out': 2})\n",
      "(<DSGE_types.POOLING: 1>, {'pool_type': <DSGE_pooling.MAX: 1>, 'kernel_size': 3, 'stride': 1, 'padding': 0}, {'in': 2, 'out': 2})\n",
      "param:  {'input_channels': 3, 'output_channels': 2}\n",
      "None\n",
      "GA_types.FEATURES\n",
      "(<DSGE_types.CONV: 2>, {'kernel_size': 2, 'stride': 2, 'padding': 3}, {'in': 2, 'out': 4})\n",
      "(<DSGE_types.ACTIVATION: 3>, <DSGE_activation.SIGMOID: 2>, {'in': 4, 'out': 4})\n",
      "(<DSGE_types.POOLING: 1>, {'pool_type': <DSGE_pooling.AVG: 2>, 'kernel_size': 4, 'stride': 1, 'padding': 0}, {'in': 4, 'out': 4})\n",
      "param:  {'input_channels': 2, 'output_channels': 4}\n",
      "None\n",
      "GA_types.FEATURES\n",
      "(<DSGE_types.CONV: 2>, {'kernel_size': 1, 'stride': 1, 'padding': 1}, {'in': 4, 'out': 6})\n",
      "(<DSGE_types.ACTIVATION: 3>, <DSGE_activation.TANH: 3>, {'in': 6, 'out': 6})\n",
      "(<DSGE_types.POOLING: 1>, {'pool_type': <DSGE_pooling.MAX: 1>, 'kernel_size': 2, 'stride': 1, 'padding': 1}, {'in': 6, 'out': 6})\n",
      "param:  {'input_channels': 4, 'output_channels': 6}\n",
      "None\n",
      "GA_types.CLASSIFICATION\n",
      "(<DSGE_types.LINEAR: 4>, None, {'in': 6, 'out': 18})\n",
      "(<DSGE_types.ACTIVATION: 3>, <DSGE_activation.RELU: 1>, {'in': 6, 'out': 18})\n",
      "param:  {'input_channels': 6, 'output_channels': 18}\n",
      "None\n",
      "GA_types.CLASSIFICATION\n",
      "(<DSGE_types.LINEAR: 4>, None, {'in': 18, 'out': 10})\n",
      "(<DSGE_types.ACTIVATION: 3>, <DSGE_activation.TANH: 3>, {'in': 18, 'out': 10})\n",
      "param:  {'input_channels': 18, 'output_channels': 10}\n",
      "None\n"
     ]
    }
   ],
   "source": [
    "Net = Net_encoding( 4, 2, 3, 10)\n",
    "Net.print()\n"
   ]
  },
  {
   "cell_type": "markdown",
   "metadata": {},
   "source": [
    "## From the encoding to the neural network\n",
    "Now we can build the neural network module from the encoding. We have only to select the correct layer from the DSGE gene and to connect them in the correct order. All the information are contained in the Net_encoding class."
   ]
  },
  {
   "cell_type": "code",
   "execution_count": 308,
   "metadata": {},
   "outputs": [],
   "source": [
    "class _Net(nn.Module):\n",
    "    def __init__(self, Net_encod):\n",
    "        super(_Net, self).__init__()\n",
    "        self.features_layer = nn.Sequential()\n",
    "        for i in range(Net_encod.num_features):\n",
    "            for j in range(Net_encod.GA_encoding[i].dsge_len):\n",
    "                self.features_layer.add_module('flayer%d_%d' % (i+1, j+1), self.make_layer(Net_encod.GA_encoding[i].dsge_encoding[j]))\n",
    "\n",
    "        self.classification_layer = nn.Sequential()\n",
    "        for i in range(Net_encod.num_classification):\n",
    "            for j in range(Net_encod.GA_encoding[j].dsge_len):\n",
    "                self.classification_layer.add_module('clayer%d_%d' % (i+1, j+1), self.make_layer(Net_encod.GA_encoding[j].dsge_encoding[j]))\n",
    "    \n",
    "    def make_layer(self, dsge_encod):\n",
    "            if dsge_encod.type == DSGE_types.CONV:\n",
    "                return nn.Conv2d(dsge_encod.channels['in'], dsge_encod.channels['out'], dsge_encod.param['kernel_size'], dsge_encod.param['stride'], dsge_encod.param['padding'])\n",
    "            if dsge_encod.type == DSGE_types.LINEAR:\n",
    "                return nn.Linear(dsge_encod.channels['in'], dsge_encod.channels['out'])\n",
    "            if dsge_encod.type == DSGE_types.ACTIVATION:\n",
    "                if dsge_encod.param == DSGE_activation.RELU:\n",
    "                    return nn.ReLU()\n",
    "                if dsge_encod.param == DSGE_activation.SIGMOID:\n",
    "                    return nn.Sigmoid()\n",
    "                if dsge_encod.param == DSGE_activation.TANH:\n",
    "                    return nn.Tanh()\n",
    "            if dsge_encod.type == DSGE_types.POOLING:\n",
    "                if dsge_encod.param[\"pool_type\"] == DSGE_pooling.MAX:\n",
    "                    return nn.MaxPool2d(dsge_encod.param['kernel_size'], dsge_encod.param['stride'], dsge_encod.param['padding'])\n",
    "                if dsge_encod.param[\"pool_type\"] == DSGE_pooling.AVG:\n",
    "                    return nn.AvgPool2d(dsge_encod.param['kernel_size'], dsge_encod.param['stride'], dsge_encod.param['padding'])\n",
    "    def forward(self, x):\n",
    "        x = self.features_layer(x)\n",
    "        x= torch.flatten(x, 1)\n",
    "        x = self.classification_layer(x)\n",
    "        return x\n"
   ]
  },
  {
   "cell_type": "markdown",
   "metadata": {},
   "source": [
    "Let's build the network from the encoding:"
   ]
  },
  {
   "cell_type": "code",
   "execution_count": 313,
   "metadata": {},
   "outputs": [
    {
     "data": {
      "text/plain": [
       "_Net(\n",
       "  (features_layer): Sequential(\n",
       "    (flayer1_1): Conv2d(3, 3, kernel_size=(3, 3), stride=(2, 2), padding=(2, 2))\n",
       "    (flayer1_2): Tanh()\n",
       "    (flayer1_3): AvgPool2d(kernel_size=2, stride=1, padding=1)\n",
       "    (flayer2_1): Conv2d(3, 2, kernel_size=(1, 1), stride=(3, 3), padding=(1, 1))\n",
       "    (flayer2_2): Sigmoid()\n",
       "    (flayer2_3): MaxPool2d(kernel_size=3, stride=1, padding=0, dilation=1, ceil_mode=False)\n",
       "    (flayer3_1): Conv2d(2, 4, kernel_size=(2, 2), stride=(2, 2), padding=(3, 3))\n",
       "    (flayer3_2): Sigmoid()\n",
       "    (flayer3_3): AvgPool2d(kernel_size=4, stride=1, padding=0)\n",
       "    (flayer4_1): Conv2d(4, 6, kernel_size=(1, 1), stride=(1, 1), padding=(1, 1))\n",
       "    (flayer4_2): Tanh()\n",
       "    (flayer4_3): MaxPool2d(kernel_size=2, stride=1, padding=1, dilation=1, ceil_mode=False)\n",
       "  )\n",
       "  (classification_layer): Sequential(\n",
       "    (clayer1_1): Conv2d(3, 3, kernel_size=(3, 3), stride=(2, 2), padding=(2, 2))\n",
       "    (clayer1_2): Sigmoid()\n",
       "    (clayer1_3): AvgPool2d(kernel_size=4, stride=1, padding=0)\n",
       "    (clayer2_1): Conv2d(3, 3, kernel_size=(3, 3), stride=(2, 2), padding=(2, 2))\n",
       "    (clayer2_2): Sigmoid()\n",
       "    (clayer2_3): AvgPool2d(kernel_size=4, stride=1, padding=0)\n",
       "  )\n",
       ")"
      ]
     },
     "execution_count": 313,
     "metadata": {},
     "output_type": "execute_result"
    }
   ],
   "source": [
    "model = _Net(Net)\n",
    "model"
   ]
  }
 ],
 "metadata": {
  "kernelspec": {
   "display_name": "Python 3.9.13 ('deep_le')",
   "language": "python",
   "name": "python3"
  },
  "language_info": {
   "codemirror_mode": {
    "name": "ipython",
    "version": 3
   },
   "file_extension": ".py",
   "mimetype": "text/x-python",
   "name": "python",
   "nbconvert_exporter": "python",
   "pygments_lexer": "ipython3",
   "version": "3.9.13"
  },
  "orig_nbformat": 4,
  "vscode": {
   "interpreter": {
    "hash": "a142b7d21e8575b7566c168744f24153333bb674c4e2523209192565d5391819"
   }
  }
 },
 "nbformat": 4,
 "nbformat_minor": 2
}
