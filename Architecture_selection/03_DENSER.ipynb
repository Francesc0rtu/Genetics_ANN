{
 "cells": [
  {
   "cell_type": "markdown",
   "metadata": {},
   "source": [
    "# DENSER\n",
    "My implementation of DENSER, a method for architecture selection in neural networks. The paper can be found [here](https://arxiv.org/abs/2004.11002).\n"
   ]
  },
  {
   "cell_type": "markdown",
   "metadata": {},
   "source": [
    "## TO DO:\n",
    "- [ ] Implement crossover in GA class\n",
    "- [ ] Implement crossover in DSGE class\n",
    "- [ ] Implement mutation in GA class\n",
    "- [ ] Implement genetic algorithm"
   ]
  },
  {
   "cell_type": "code",
   "execution_count": 1,
   "metadata": {},
   "outputs": [],
   "source": [
    "import torch\n",
    "import torchvision\n",
    "import torchvision.transforms as transforms\n",
    "import os\n",
    "import torch.nn as nn\n",
    "import torch.nn.functional as F\n",
    "import torch.optim as optim\n",
    "import numpy as np\n",
    "import matplotlib.pyplot as plt\n",
    "from enum import Enum\n",
    "from scripts import utils, train\n",
    "from scripts.dataloader import cifar10, MINST\n",
    "import copy\n",
    "\n",
    "%load_ext autoreload\n",
    "%autoreload 2"
   ]
  },
  {
   "cell_type": "markdown",
   "metadata": {},
   "source": [
    "## Build the encoder from the DENSER paper "
   ]
  },
  {
   "cell_type": "markdown",
   "metadata": {},
   "source": [
    "Fristly we define the lower lavel of the grammatic: a DSGE gene. This class encode a single layer from all the possible one (conv, pool, activation). \n",
    "In addition, the class compute the input channels and the output channels of the layer, which depends on the kernel size and the padding."
   ]
  },
  {
   "cell_type": "code",
   "execution_count": 2,
   "metadata": {},
   "outputs": [],
   "source": [
    "class DSGE_types(Enum):\n",
    "    \"Layer types for DSGE.\"\n",
    "    POOLING = 1\n",
    "    CONV = 2\n",
    "    ACTIVATION = 3\n",
    "    LINEAR = 4\n",
    "\n",
    "class DSGE_pooling(Enum):\n",
    "    \"Pooling types for DSGE.\"\n",
    "    MAX = 1\n",
    "    AVG = 2\n",
    "\n",
    "class DSGE_activation(Enum):\n",
    "    \"Activation types for DSGE.\"\n",
    "    RELU = 1\n",
    "    SIGMOID = 2\n",
    "    TANH = 3\n",
    "    SOFTMAX = 4\n",
    "\n",
    "class DSGE_genes:\n",
    "    \"DSGE_encoding class. The DSGE_encoding is composed of a list of genes.\"\n",
    "    def __init__(self, type=None, c_in = None, c_out = None, param=None):\n",
    "        if type is None: # Random init, no type specified (could be pooling, conv, activation, linear)\n",
    "            self.random_init()\n",
    "        else:\n",
    "            self.init_form_encoding(type, param)\n",
    "        self.channels = {'in': c_in, 'out': c_out}\n",
    "\n",
    "        \n",
    "        \n",
    "\n",
    "        \n",
    "        \n",
    "    def random_init(self):\n",
    "        self.type = DSGE_types(np.random.randint(1, 5))  #randomly choose a type\n",
    "        self.random_init_param()                  #randomly choose the parameters of the type\n",
    "\n",
    "    def random_init_param(self):\n",
    "        if self.type == DSGE_types.POOLING:           #randomly choose a pooling type\n",
    "            self.param = {\"pool_type\" : DSGE_pooling(np.random.randint(1, 3)), \"kernel_size\": np.random.randint(2, 5), \"stride\": np.random.randint(1, 3), \"padding\": np.random.randint(0, 2)}\n",
    "        elif self.type == DSGE_types.CONV:         #randomly choose a kernel size, stride and padding\n",
    "            self.param = {'kernel_size': np.random.randint(1, 9), 'stride': np.random.randint(1, 2), 'padding': np.random.randint(1, 2)}\n",
    "        elif self.type == DSGE_types.ACTIVATION:   #randomly choose an activation type\n",
    "            self.param = DSGE_activation(np.random.randint(1, 4))\n",
    "        elif self.type == DSGE_types.LINEAR:     #linear layer has no parameters\n",
    "            self.param = None\n",
    "    \n",
    "    def init_form_encoding(self, type, param=None):\n",
    "        self.type = type   #set the type\n",
    "        if param is None:   #if no parameters are specified, randomly choose them\n",
    "            self.random_init_param()\n",
    "        \n",
    "    def compute_shape(self, input_shape):\n",
    "        if self.type == DSGE_types.CONV or self.type == DSGE_types.POOLING:\n",
    "            return utils.compute_output_conv2d(input_shape, kernel_size=self.param['kernel_size'], stride=self.param['stride'], padding=self.param['padding'])\n",
    "        else:\n",
    "            return input_shape\n",
    "    def get(self):  #return the gene\n",
    "        return self.type, self.param, self.channels\n",
    "\n",
    "            \n",
    "        \n",
    "        \n",
    "\n",
    "\n"
   ]
  },
  {
   "cell_type": "markdown",
   "metadata": {},
   "source": [
    "Then we are ready to encode the outer levels, the GA types, which describe a single block of the network (a sequence of DSGE genes). A block could be a features block (conv, pool, activation) or a classifier block (linear, activation). The GA types are encoded in the class GA_type."
   ]
  },
  {
   "cell_type": "code",
   "execution_count": 3,
   "metadata": {},
   "outputs": [],
   "source": [
    "class GA_types(Enum):\n",
    "    \"Layer types for GA.\"\n",
    "    FEATURES = 1\n",
    "    CLASSIFICATION = 2\n",
    "    LAST_LAYER = 3\n",
    "\n",
    "class GA_genes:\n",
    "    \"GA_encoding class. The GA_encoding is composed of a list of genes.\"\n",
    "    def __init__(self, GA_type, c_in = None, c_out = None):\n",
    "        self.GA_type = GA_type #set the type\n",
    "        self.dsge_encoding = []\n",
    "        self.param  = {\"input_channels\": c_in, 'output_channels': c_out}\n",
    "        \n",
    "\n",
    "        if self.GA_type == GA_type.CLASSIFICATION :\n",
    "            self.dsge_encoding.append(DSGE_genes(DSGE_types.LINEAR, c_in = c_in, c_out = c_out    ))\n",
    "            self.dsge_encoding.append(DSGE_genes(DSGE_types.ACTIVATION, c_in = c_out, c_out = c_out  ))\n",
    "            \n",
    "        if self.GA_type == GA_type.LAST_LAYER :\n",
    "            self.dsge_encoding.append(DSGE_genes(DSGE_types.LINEAR, c_in = c_in, c_out = c_out    ))\n",
    "\n",
    "        if self.GA_type == GA_type.FEATURES:\n",
    "            self.dsge_encoding.append(DSGE_genes(DSGE_types.CONV, c_in = c_in, c_out = c_out  ))\n",
    "            self.dsge_encoding.append(DSGE_genes(DSGE_types.ACTIVATION, c_in = c_out, c_out = c_out ) )\n",
    "            self.dsge_encoding.append(DSGE_genes(DSGE_types.POOLING, c_in = c_out, c_out = c_out  ))\n",
    "        self.dsge_len = len(self.dsge_encoding)    \n",
    "\n",
    "    def compute_shape(self, input_shape):\n",
    "        output_shape = input_shape\n",
    "        for i in range(self.dsge_len):\n",
    "            output_shape = self.dsge_encoding[i].compute_shape(output_shape)\n",
    "        return output_shape\n",
    "\n",
    "    def get(self):\n",
    "        return self.GA_type, self.dsge_encoding, self.param\n",
    "\n",
    "    def print(self): #print the GA_encoding\n",
    "        print( self.GA_type)\n",
    "        for i in range(len(self.dsge_encoding)):\n",
    "            print( self.dsge_encoding[i].get())\n",
    "        print(\"param: \", self.param)\n",
    "            "
   ]
  },
  {
   "cell_type": "markdown",
   "metadata": {},
   "source": [
    "Finally, we encode the whole network, the GA, which is a sequence of GA types:"
   ]
  },
  {
   "cell_type": "code",
   "execution_count": 4,
   "metadata": {},
   "outputs": [],
   "source": [
    "class Net_encoding:\n",
    "    \"Describe the encoding of a network.\"\n",
    "    def __init__(self, num_features, num_classification, c_in , c_out, input_shape):\n",
    "  \n",
    "        self.GA_features = []\n",
    "        self.GA_classification = []\n",
    "        self.GA_last_layer = []\n",
    "        \n",
    "        channels = self.init_random_channel(c_in, c_out, num_features + num_classification )\n",
    "        \n",
    "\n",
    "\n",
    "        for i in range(num_features):\n",
    "            self.GA_features.append(   GA_genes(GA_types.FEATURES, c_in = channels[i][0], c_out = channels[i][1]   )    )\n",
    "            \n",
    "        k = num_features\n",
    "        channels[k] = ( (self.compute_shape_features(input_shape) ** 2) * channels[k-1][1], channels[k][1])   #set the input channels of the classification block: the flatten output of the features block\n",
    "        for i in range(num_classification - 1):\n",
    "            self.GA_classification.append(   GA_genes(     GA_types.CLASSIFICATION,  c_in = channels[k+i][0], c_out = channels[k+i][1]  )  )\n",
    "\n",
    "        self.GA_last_layer.append(GA_genes( GA_types.LAST_LAYER,  c_in = channels[self.num_classification() + k][0], c_out = c_out)  )\n",
    "        \n",
    " \n",
    "        self.param = {'input_channels': c_in ,'output_channels': c_out}\n",
    "        \n",
    "    def _len(self):\n",
    "        x =  len(self.GA_features) +  len(self.GA_classification) + 1\n",
    "        return  x #the length of the encoding is the number of features block and classification block\n",
    "    def num_features(self):\n",
    "        x = len(self.GA_features)\n",
    "        return x\n",
    "    def num_classification(self):\n",
    "        x = len(self.GA_classification) \n",
    "        return x  \n",
    "\n",
    "    def GA_encoding(self, i):\n",
    "        if i < self.num_features():\n",
    "            return self.GA_features[i]\n",
    "        elif i < self.num_features() + self.num_classification():\n",
    "            return self.GA_classification[i - self.num_features() ]\n",
    "        elif i == self.num_features() + self.num_classification():\n",
    "            return self.GA_last_layer[0]\n",
    "        else:\n",
    "            return self.GA_last_layer[0]\n",
    "\n",
    "    def init_random_channel(self, C_in, C_out, len):\n",
    "        tmp = C_in\n",
    "        channels = []\n",
    "        for i in range(len-1):\n",
    "            out  = np.random.randint(3,30)\n",
    "            channels.append( (tmp, out ) )\n",
    "            tmp = out\n",
    "\n",
    "        channels.append((tmp, C_out))\n",
    "        return channels\n",
    "    \n",
    "    def compute_shape_features(self, input_shape = 32):\n",
    "        output_shape = input_shape\n",
    "        for i in range(self.num_features()):\n",
    "            output_shape = self.GA_features[i].compute_shape(output_shape)\n",
    "        return output_shape\n",
    "\n",
    "    def get(self):\n",
    "        return self.GA_encoding\n",
    "        \n",
    "    def print(self):\n",
    "        print(\"Net encoding len:\", self._len())\n",
    "        for i in range(self._len()):\n",
    "            print( self.GA_encoding(i).print())\n",
    "\n",
    "    def print_GAlevel(self):\n",
    "        print(\"Net len:\", self._len())\n",
    "        for i in range(self._len()):\n",
    "            print(\"-\",i, self.GA_encoding(i).GA_type)\n",
    "\n",
    "    def fix_channels\n",
    "\n",
    "def GA_crossover(parent1, parent2):\n",
    "        #find cutting point\n",
    "        cut_parent1 = np.random.randint(0, parent1._len() -1)\n",
    "        cut_parent2 = np.random.randint(0, parent2._len() -1)\n",
    "        \n",
    "\n",
    "        #identify the type of the cut\n",
    "        cut1_type = parent1.GA_encoding(cut_parent1).GA_type\n",
    "        cut2_type = parent2.GA_encoding(cut_parent2).GA_type\n",
    "\n",
    "        print(\"cut1_type: \", cut1_type, \"cut\", cut_parent1)\n",
    "        print(\"cut2_type: \", cut2_type, \"cut\", cut_parent2)\n",
    "\n",
    "        if cut1_type == cut2_type and cut1_type == GA_types.FEATURES:\n",
    "            print(\"FEATURES\")\n",
    "            aux1 = copy.deepcopy(parent1.GA_features[cut_parent1:])\n",
    "            aux2 = copy.deepcopy(parent2.GA_features[cut_parent2:])\n",
    "   \n",
    "            parent1.GA_features = copy.deepcopy(parent1.GA_features[:cut_parent1])\n",
    "            parent2.GA_features = copy.deepcopy(parent2.GA_features[:cut_parent2])\n",
    "            \n",
    "            parent1.GA_features.extend(aux2)\n",
    "            parent2.GA_features.extend(aux1)\n",
    "\n",
    "            return parent1, parent2\n",
    "        if cut1_type == cut2_type and cut1_type == GA_types.CLASSIFICATION:\n",
    "            print(\"CLASSIFICATION\")\n",
    "            aux1 = copy.deepcopy(parent1.GA_classification[cut_parent1 - parent1.num_features():])\n",
    "            aux2 = copy.deepcopy(parent2.GA_classification[cut_parent2 - parent2.num_features():])\n",
    "   \n",
    "            parent1.GA_classification = copy.deepcopy(parent1.GA_classification[:cut_parent1 - parent1.num_features()])\n",
    "            parent2.GA_classification = copy.deepcopy(parent2.GA_classification[:cut_parent2 - parent2.num_features()])\n",
    "            \n",
    "            parent1.GA_classification.extend(aux2)\n",
    "            parent2.GA_classification.extend(aux1)\n",
    "\n",
    "            return parent1, parent2\n",
    "\n",
    "        return \n"
   ]
  },
  {
   "cell_type": "code",
   "execution_count": 61,
   "metadata": {},
   "outputs": [
    {
     "name": "stdout",
     "output_type": "stream",
     "text": [
      "[3, 4, 5]\n",
      "[1, 2]\n"
     ]
    }
   ],
   "source": [
    "x = [1,2,3,4,5]\n",
    "print(x[2:])\n",
    "print(x[:2])"
   ]
  },
  {
   "cell_type": "code",
   "execution_count": 103,
   "metadata": {},
   "outputs": [
    {
     "name": "stdout",
     "output_type": "stream",
     "text": [
      "Net len: 14\n",
      "- 0 GA_types.FEATURES\n",
      "- 1 GA_types.FEATURES\n",
      "- 2 GA_types.FEATURES\n",
      "- 3 GA_types.FEATURES\n",
      "- 4 GA_types.FEATURES\n",
      "- 5 GA_types.FEATURES\n",
      "- 6 GA_types.FEATURES\n",
      "- 7 GA_types.FEATURES\n",
      "- 8 GA_types.FEATURES\n",
      "- 9 GA_types.FEATURES\n",
      "- 10 GA_types.FEATURES\n",
      "- 11 GA_types.FEATURES\n",
      "- 12 GA_types.CLASSIFICATION\n",
      "- 13 GA_types.LAST_LAYER\n",
      "Net len: 5\n",
      "- 0 GA_types.FEATURES\n",
      "- 1 GA_types.FEATURES\n",
      "- 2 GA_types.FEATURES\n",
      "- 3 GA_types.CLASSIFICATION\n",
      "- 4 GA_types.LAST_LAYER\n",
      "cut1_type:  GA_types.FEATURES cut 7\n",
      "cut2_type:  GA_types.FEATURES cut 0\n",
      "FEATURES\n",
      "Net len: 12\n",
      "- 0 GA_types.FEATURES\n",
      "- 1 GA_types.FEATURES\n",
      "- 2 GA_types.FEATURES\n",
      "- 3 GA_types.FEATURES\n",
      "- 4 GA_types.FEATURES\n",
      "- 5 GA_types.FEATURES\n",
      "- 6 GA_types.FEATURES\n",
      "- 7 GA_types.FEATURES\n",
      "- 8 GA_types.FEATURES\n",
      "- 9 GA_types.FEATURES\n",
      "- 10 GA_types.CLASSIFICATION\n",
      "- 11 GA_types.LAST_LAYER\n",
      "Net len: 7\n",
      "- 0 GA_types.FEATURES\n",
      "- 1 GA_types.FEATURES\n",
      "- 2 GA_types.FEATURES\n",
      "- 3 GA_types.FEATURES\n",
      "- 4 GA_types.FEATURES\n",
      "- 5 GA_types.CLASSIFICATION\n",
      "- 6 GA_types.LAST_LAYER\n"
     ]
    }
   ],
   "source": [
    "parent1 = Net_encoding(12, 2, 3, 10, 32)\n",
    "parent2 = Net_encoding(3, 2, 3, 10, 32)\n",
    "parent1.print_GAlevel()\n",
    "parent2.print_GAlevel()\n",
    "child1, child2 = GA_crossover(parent1, parent2)\n",
    "child1.print_GAlevel()\n",
    "child2.print_GAlevel()"
   ]
  },
  {
   "cell_type": "markdown",
   "metadata": {},
   "source": [
    "Let's try to build a network with 4 features blocks and 2 classifier blocks, with a 3 channel input (a standard RGB image) and a 10 channel output (class of CIFAR-10):"
   ]
  },
  {
   "cell_type": "code",
   "execution_count": 10,
   "metadata": {},
   "outputs": [
    {
     "name": "stdout",
     "output_type": "stream",
     "text": [
      "Net encoding len: 5\n",
      "GA_types.FEATURES\n",
      "(<DSGE_types.CONV: 2>, {'kernel_size': 1, 'stride': 1, 'padding': 1}, {'in': 3, 'out': 12})\n",
      "(<DSGE_types.ACTIVATION: 3>, <DSGE_activation.SIGMOID: 2>, {'in': 12, 'out': 12})\n",
      "(<DSGE_types.POOLING: 1>, {'pool_type': <DSGE_pooling.MAX: 1>, 'kernel_size': 3, 'stride': 2, 'padding': 0}, {'in': 12, 'out': 12})\n",
      "param:  {'input_channels': 3, 'output_channels': 12}\n",
      "None\n",
      "GA_types.FEATURES\n",
      "(<DSGE_types.CONV: 2>, {'kernel_size': 8, 'stride': 1, 'padding': 1}, {'in': 12, 'out': 11})\n",
      "(<DSGE_types.ACTIVATION: 3>, <DSGE_activation.SIGMOID: 2>, {'in': 11, 'out': 11})\n",
      "(<DSGE_types.POOLING: 1>, {'pool_type': <DSGE_pooling.MAX: 1>, 'kernel_size': 3, 'stride': 2, 'padding': 1}, {'in': 11, 'out': 11})\n",
      "param:  {'input_channels': 12, 'output_channels': 11}\n",
      "None\n",
      "GA_types.CLASSIFICATION\n",
      "(<DSGE_types.LINEAR: 4>, None, {'in': 396, 'out': 15})\n",
      "(<DSGE_types.ACTIVATION: 3>, <DSGE_activation.RELU: 1>, {'in': 15, 'out': 15})\n",
      "param:  {'input_channels': 396, 'output_channels': 15}\n",
      "None\n",
      "GA_types.CLASSIFICATION\n",
      "(<DSGE_types.LINEAR: 4>, None, {'in': 15, 'out': 13})\n",
      "(<DSGE_types.ACTIVATION: 3>, <DSGE_activation.TANH: 3>, {'in': 13, 'out': 13})\n",
      "param:  {'input_channels': 15, 'output_channels': 13}\n",
      "None\n",
      "GA_types.LAST_LAYER\n",
      "(<DSGE_types.LINEAR: 4>, None, {'in': 13, 'out': 10})\n",
      "param:  {'input_channels': 13, 'output_channels': 10}\n",
      "None\n"
     ]
    }
   ],
   "source": [
    "netcode = Net_encoding( 2, 3, 3, 10, 32 )\n",
    "netcode.print()\n"
   ]
  },
  {
   "cell_type": "markdown",
   "metadata": {},
   "source": [
    "## From the encoding to the neural network\n",
    "Now we can build the neural network module from the encoding. We have only to select the correct layer from the DSGE gene and to connect them in the correct order. All the information are contained in the Net_encoding class."
   ]
  },
  {
   "cell_type": "code",
   "execution_count": 13,
   "metadata": {},
   "outputs": [],
   "source": [
    "\n",
    "class Net(nn.Module):\n",
    "    def __init__(self, Net_encod):\n",
    "        super().__init__()\n",
    "        \n",
    "        self.layer_list = []\n",
    "  \n",
    "\n",
    "        for i in range(Net_encod.num_features()):\n",
    "            for j in range(Net_encod.GA_encoding(i).dsge_len):\n",
    "                layer = self.make_layer(Net_encod.GA_encoding(i).dsge_encoding[j])\n",
    "                self.layer_list.append(layer)\n",
    "\n",
    "        self.layer_list.append(nn.Flatten() )\n",
    "\n",
    "        for i in range(Net_encod.num_classification()):\n",
    "            for j in range(Net_encod.GA_encoding(Net_encod.num_features() + i).dsge_len):\n",
    "                self.layer_list.append( self.make_layer(Net_encod.GA_encoding(Net_encod.num_features() + i).dsge_encoding[j]))\n",
    "        self.layer_list.append(self.make_layer(Net_encod.GA_last_layer[0].dsge_encoding[0]) )\n",
    "        self.layers = nn.Sequential(*self.layer_list)\n",
    "\n",
    "\n",
    "    def make_layer(self, dsge_encod):\n",
    "            if dsge_encod.type == DSGE_types.CONV:\n",
    "                return nn.Conv2d(dsge_encod.channels['in'], dsge_encod.channels['out'], dsge_encod.param['kernel_size'], dsge_encod.param['stride'], dsge_encod.param['padding'])\n",
    "            if dsge_encod.type == DSGE_types.LINEAR:\n",
    "                    return nn.Linear(dsge_encod.channels['in'], dsge_encod.channels['out'])\n",
    "            if dsge_encod.type == DSGE_types.ACTIVATION:\n",
    "                if dsge_encod.param == DSGE_activation.RELU:\n",
    "                    return nn.ReLU()\n",
    "                if dsge_encod.param == DSGE_activation.SIGMOID:\n",
    "                    return nn.Sigmoid()\n",
    "                if dsge_encod.param == DSGE_activation.TANH:\n",
    "                    return nn.Tanh()\n",
    "            if dsge_encod.type == DSGE_types.POOLING:\n",
    "                if dsge_encod.param[\"pool_type\"] == DSGE_pooling.MAX:\n",
    "                    return nn.MaxPool2d(dsge_encod.param['kernel_size'], dsge_encod.param['stride'], dsge_encod.param['padding'])\n",
    "                if dsge_encod.param[\"pool_type\"] == DSGE_pooling.AVG:\n",
    "                    return nn.AvgPool2d(dsge_encod.param['kernel_size'], dsge_encod.param['stride'], dsge_encod.param['padding'])\n",
    "    def forward(self, x):\n",
    "        return self.layers(x)\n",
    " \n"
   ]
  },
  {
   "cell_type": "markdown",
   "metadata": {},
   "source": [
    "Let's try the network on MINST:"
   ]
  },
  {
   "cell_type": "code",
   "execution_count": 6,
   "metadata": {},
   "outputs": [],
   "source": [
    "\n",
    "transform = transforms.Compose([\n",
    "    transforms.ToTensor(),\n",
    "    transforms.Normalize((0.1307,), (0.3081,)),\n",
    "])\n",
    "\n",
    "# We download the train and the test dataset in the given root and applying the given transforms\n",
    "trainset = torchvision.datasets.MNIST(root='./data', train=True,  download=True, transform=transform)\n",
    "testset = torchvision.datasets.MNIST(root='./data', train=False,  download=True, transform=transform)\n",
    "\n",
    "batch_size=4\n",
    "\n",
    "# dataloaders\n",
    "trainloader = torch.utils.data.DataLoader(trainset, batch_size=batch_size,  shuffle=True, num_workers=2)\n",
    "testloader = torch.utils.data.DataLoader(testset, batch_size=batch_size,  shuffle=False, num_workers=2)"
   ]
  },
  {
   "cell_type": "code",
   "execution_count": 14,
   "metadata": {},
   "outputs": [
    {
     "name": "stderr",
     "output_type": "stream",
     "text": [
      "Clipping input data to the valid range for imshow with RGB data ([0..1] for floats or [0..255] for integers).\n"
     ]
    },
    {
     "name": "stdout",
     "output_type": "stream",
     "text": [
      "torch.Size([4, 1, 28, 28])\n"
     ]
    },
    {
     "data": {
      "image/png": "[encoded data removed]",
      "text/plain": [
       "<Figure size 640x480 with 1 Axes>"
      ]
     },
     "metadata": {},
     "output_type": "display_data"
    },
    {
     "name": "stdout",
     "output_type": "stream",
     "text": [
      "tensor([3, 3, 2, 8])\n",
      "tensor([[ 0.5459,  0.1886,  0.0196,  0.2765, -0.3400,  0.6505, -0.3015, -0.7627,\n",
      "          0.1804, -0.2225],\n",
      "        [ 0.5484,  0.1888,  0.0194,  0.2740, -0.3411,  0.6529, -0.3015, -0.7629,\n",
      "          0.1798, -0.2212],\n",
      "        [ 0.5461,  0.1885,  0.0230,  0.2776, -0.3396,  0.6535, -0.2989, -0.7637,\n",
      "          0.1814, -0.2201],\n",
      "        [ 0.5480,  0.1899,  0.0217,  0.2778, -0.3402,  0.6520, -0.3020, -0.7630,\n",
      "          0.1815, -0.2222]], grad_fn=<AddmmBackward0>)\n"
     ]
    }
   ],
   "source": [
    "images , classes = next(iter(trainloader))\n",
    "netcode = Net_encoding( 4, 1, 1, 10 , 28)\n",
    "model = Net(netcode)\n",
    "def imgshow(img):\n",
    "    img = img / 2 + 0.5\n",
    "    npimg = img.numpy()\n",
    "    plt.imshow(np.transpose(npimg, (1, 2, 0)))\n",
    "    plt.show()\n",
    "print(images.shape)\n",
    "imgshow(torchvision.utils.make_grid(images))\n",
    "print(classes)\n",
    "print(model(images))\n"
   ]
  },
  {
   "cell_type": "code",
   "execution_count": 8,
   "metadata": {},
   "outputs": [
    {
     "name": "stdout",
     "output_type": "stream",
     "text": [
      "Net encoding len: 5\n",
      "GA_types.FEATURES\n",
      "(<DSGE_types.CONV: 2>, {'kernel_size': 6, 'stride': 1, 'padding': 1}, {'in': 1, 'out': 16})\n",
      "(<DSGE_types.ACTIVATION: 3>, <DSGE_activation.SIGMOID: 2>, {'in': 16, 'out': 16})\n",
      "(<DSGE_types.POOLING: 1>, {'pool_type': <DSGE_pooling.MAX: 1>, 'kernel_size': 2, 'stride': 1, 'padding': 0}, {'in': 16, 'out': 16})\n",
      "param:  {'input_channels': 1, 'output_channels': 16}\n",
      "None\n",
      "GA_types.FEATURES\n",
      "(<DSGE_types.CONV: 2>, {'kernel_size': 8, 'stride': 1, 'padding': 1}, {'in': 16, 'out': 16})\n",
      "(<DSGE_types.ACTIVATION: 3>, <DSGE_activation.TANH: 3>, {'in': 16, 'out': 16})\n",
      "(<DSGE_types.POOLING: 1>, {'pool_type': <DSGE_pooling.AVG: 2>, 'kernel_size': 4, 'stride': 1, 'padding': 0}, {'in': 16, 'out': 16})\n",
      "param:  {'input_channels': 16, 'output_channels': 16}\n",
      "None\n",
      "GA_types.FEATURES\n",
      "(<DSGE_types.CONV: 2>, {'kernel_size': 1, 'stride': 1, 'padding': 1}, {'in': 16, 'out': 12})\n",
      "(<DSGE_types.ACTIVATION: 3>, <DSGE_activation.RELU: 1>, {'in': 12, 'out': 12})\n",
      "(<DSGE_types.POOLING: 1>, {'pool_type': <DSGE_pooling.MAX: 1>, 'kernel_size': 4, 'stride': 2, 'padding': 0}, {'in': 12, 'out': 12})\n",
      "param:  {'input_channels': 16, 'output_channels': 12}\n",
      "None\n",
      "GA_types.FEATURES\n",
      "(<DSGE_types.CONV: 2>, {'kernel_size': 2, 'stride': 1, 'padding': 1}, {'in': 12, 'out': 5})\n",
      "(<DSGE_types.ACTIVATION: 3>, <DSGE_activation.TANH: 3>, {'in': 5, 'out': 5})\n",
      "(<DSGE_types.POOLING: 1>, {'pool_type': <DSGE_pooling.MAX: 1>, 'kernel_size': 3, 'stride': 2, 'padding': 1}, {'in': 5, 'out': 5})\n",
      "param:  {'input_channels': 12, 'output_channels': 5}\n",
      "None\n",
      "GA_types.LAST_LAYER\n",
      "(<DSGE_types.LINEAR: 4>, None, {'in': 125, 'out': 10})\n",
      "param:  {'input_channels': 125, 'output_channels': 10}\n",
      "None\n"
     ]
    }
   ],
   "source": [
    "netcode.print()"
   ]
  },
  {
   "cell_type": "code",
   "execution_count": 11,
   "metadata": {},
   "outputs": [
    {
     "name": "stdout",
     "output_type": "stream",
     "text": [
      "Files already downloaded and verified\n",
      "Files already downloaded and verified\n"
     ]
    }
   ],
   "source": [
    "trainloader, testloader, classes = cifar10()"
   ]
  },
  {
   "cell_type": "markdown",
   "metadata": {},
   "source": [
    "Create a model with an architecture selected with the DENSER grammar:"
   ]
  },
  {
   "cell_type": "code",
   "execution_count": 15,
   "metadata": {},
   "outputs": [],
   "source": [
    "model = Net(netcode)\n",
    "\n"
   ]
  },
  {
   "cell_type": "code",
   "execution_count": 9,
   "metadata": {},
   "outputs": [],
   "source": [
    "from scripts.train import train, eval"
   ]
  },
  {
   "cell_type": "code",
   "execution_count": 16,
   "metadata": {},
   "outputs": [
    {
     "name": "stderr",
     "output_type": "stream",
     "text": [
      "100%|██████████| 12500/12500 [01:34<00:00, 132.35it/s]\n"
     ]
    },
    {
     "name": "stdout",
     "output_type": "stream",
     "text": [
      "Accuracy of the network on the 10000 test images: 94 %\n"
     ]
    }
   ],
   "source": [
    "train(model, trainloader, device=\"cuda\")\n",
    "eval(model, testloader, device=\"cuda\")"
   ]
  }
 ],
 "metadata": {
  "kernelspec": {
   "display_name": "Python 3.9.13 ('deep_le')",
   "language": "python",
   "name": "python3"
  },
  "language_info": {
   "codemirror_mode": {
    "name": "ipython",
    "version": 3
   },
   "file_extension": ".py",
   "mimetype": "text/x-python",
   "name": "python",
   "nbconvert_exporter": "python",
   "pygments_lexer": "ipython3",
   "version": "3.9.13"
  },
  "orig_nbformat": 4,
  "vscode": {
   "interpreter": {
    "hash": "a142b7d21e8575b7566c168744f24153333bb674c4e2523209192565d5391819"
   }
  }
 },
 "nbformat": 4,
 "nbformat_minor": 2
}
