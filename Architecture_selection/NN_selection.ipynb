{
 "cells": [
  {
   "cell_type": "markdown",
   "metadata": {},
   "source": [
    "# Selection network architecture with genetics algorithm"
   ]
  },
  {
   "cell_type": "markdown",
   "metadata": {},
   "source": [
    "This notebook is inspired by the following paper: [Efficient Architecture Search for Deep Neural Networks](https://www.sciencedirect.com/science/article/pii/S1877050920303859)"
   ]
  },
  {
   "cell_type": "code",
   "execution_count": 8,
   "metadata": {},
   "outputs": [
    {
     "name": "stdout",
     "output_type": "stream",
     "text": [
      "The autoreload extension is already loaded. To reload it, use:\n",
      "  %reload_ext autoreload\n"
     ]
    }
   ],
   "source": [
    "import torch\n",
    "import torchvision\n",
    "import torchvision.transforms as transforms\n",
    "import torch.nn as nn\n",
    "import torch.nn.functional as F\n",
    "import matplotlib.pyplot as plt\n",
    "import numpy as np\n",
    "import copy\n",
    "from collections import OrderedDict\n",
    "\n",
    "\n",
    "%load_ext autoreload\n",
    "%autoreload 2"
   ]
  },
  {
   "cell_type": "markdown",
   "metadata": {},
   "source": [
    "### Import dataset"
   ]
  },
  {
   "cell_type": "code",
   "execution_count": 3,
   "metadata": {},
   "outputs": [
    {
     "name": "stdout",
     "output_type": "stream",
     "text": [
      "Files already downloaded and verified\n",
      "Files already downloaded and verified\n"
     ]
    }
   ],
   "source": [
    "from scripts import cifar10\n",
    "trainloader, testloader, classes = cifar10.cifar10()"
   ]
  },
  {
   "cell_type": "markdown",
   "metadata": {},
   "source": [
    "### Define basic network"
   ]
  },
  {
   "cell_type": "code",
   "execution_count": 113,
   "metadata": {},
   "outputs": [],
   "source": [
    "\n",
    "def compute_output_size(input_size, kernel_size, padding, stride):\n",
    "    return (input_size + 2*padding - kernel_size) / stride + 1\n",
    "def compute_output_size_2d(input_size, kernel_size, padding, stride):\n",
    "    return (compute_output_size(input_size[0], kernel_size[0], padding[0], stride[0]),\n",
    "            compute_output_size(input_size[1], kernel_size[1], padding[1], stride[1]))"
   ]
  },
  {
   "cell_type": "code",
   "execution_count": 123,
   "metadata": {},
   "outputs": [
    {
     "data": {
      "text/plain": [
       "(148.0, 148.0)"
      ]
     },
     "execution_count": 123,
     "metadata": {},
     "output_type": "execute_result"
    }
   ],
   "source": [
    "compute_output_size(128,3,1,1)\n",
    "compute_output_size_2d((128,128), (1,1), (10,10), (1,1))"
   ]
  },
  {
   "cell_type": "code",
   "execution_count": 91,
   "metadata": {},
   "outputs": [],
   "source": [
    "class _Chromotype():\n",
    "    def __init__(self, num_layers, num_input, num_output, inerithance=None):\n",
    "        self.num_layers = num_layers\n",
    "        self.num_input = num_input\n",
    "        self.num_output = num_output\n",
    "        self.number_of_genes = 4\n",
    "\n",
    "        #define chromosome types\n",
    "        # # self.lchromosomes = [nn.Conv2d(num_input, num_output, 1, padding=1), \n",
    "        #                                   nn.Conv2d(num_input, num_output, 3, padding=1),\n",
    "        #                                   nn.Conv2d(num_input, num_output, 3, padding=1),\n",
    "        #                                   nn.Conv2d(num_input, num_output, 3, padding=1, dilation=2)]\n",
    "        self.lchromosomes = [ nn.Conv2d(num_input, num_output,\n",
    "                                           kernel_size=3, stride=1, padding=1,\n",
    "                                           bias=False),\n",
    "                            nn.Conv2d(num_input, num_output,\n",
    "                                           kernel_size=1, stride=1, padding=1,\n",
    "                                           bias=False)]\n",
    "        if(inerithance is None):\n",
    "            self.config = []\n",
    "            for i in range(self.num_layers):\n",
    "                self.config.append(np.random.randint(0, 2))\n",
    "            self.config = np.array(self.config)\n",
    "            \n",
    "    def get_chromotype(self, el):\n",
    "        if el>= self.number_of_genes:\n",
    "            raise ValueError(\"chromosome index out of range\")\n",
    "        return self.lchromosomes[el]\n",
    "    \n"
   ]
  },
  {
   "cell_type": "code",
   "execution_count": 92,
   "metadata": {},
   "outputs": [
    {
     "name": "stdout",
     "output_type": "stream",
     "text": [
      "[0 1 0 1 1]\n"
     ]
    },
    {
     "data": {
      "text/plain": [
       "Conv2d(3, 10, kernel_size=(3, 3), stride=(1, 1), padding=(1, 1), bias=False)"
      ]
     },
     "execution_count": 92,
     "metadata": {},
     "output_type": "execute_result"
    }
   ],
   "source": [
    "dna = _Chromotype(5, 3, 10)\n",
    "print(dna.config)\n",
    "dna.get_chromotype(0)"
   ]
  },
  {
   "cell_type": "code",
   "execution_count": 93,
   "metadata": {},
   "outputs": [
    {
     "name": "stdout",
     "output_type": "stream",
     "text": [
      "[1]\n",
      "Conv2d(128, 32, kernel_size=(1, 1), stride=(1, 1), padding=(1, 1), bias=False)\n",
      "[0]\n",
      "Conv2d(128, 32, kernel_size=(3, 3), stride=(1, 1), padding=(1, 1), bias=False)\n",
      "[0]\n",
      "Conv2d(128, 32, kernel_size=(3, 3), stride=(1, 1), padding=(1, 1), bias=False)\n",
      "[1]\n",
      "Conv2d(128, 32, kernel_size=(1, 1), stride=(1, 1), padding=(1, 1), bias=False)\n"
     ]
    }
   ],
   "source": [
    "class _Transition(nn.Sequential):\n",
    "    def __init__(self, num_input_features, num_output_features):\n",
    "        super(_Transition, self).__init__()\n",
    "        self.add_module('BN', nn.BatchNorm2d(num_input_features))\n",
    "        self.add_module('1x1', nn.Conv2d(num_input_features, num_output_features,\n",
    "                                          kernel_size=1, stride=1, bias=False))\n",
    "        self.add_module('relu', nn.ReLU(inplace=True))\n",
    "        self.add_module('pool', nn.AvgPool2d(kernel_size=2, stride=2))\n",
    "\n",
    "\n",
    "\n",
    "    \n",
    "\n",
    "\n",
    "\n",
    "#define dense layer and bottleneck layer\n",
    "class _DenseLayer(nn.Module):\n",
    "    def __init__(self,chromosome, num_input_features, growth_rate, bn_size, drop_rate, memory_efficient=False):\n",
    "        print(chromosome)\n",
    "        super(_DenseLayer, self).__init__()\n",
    "        self.add_module('BN_1', nn.BatchNorm2d(num_input_features))\n",
    "        self.add_module('conv1', nn.Conv2d(num_input_features, bn_size *\n",
    "                                           growth_rate, kernel_size=1, stride=1,\n",
    "                                           bias=False))\n",
    "        self.add_module('relu_1', nn.ReLU(inplace=True))\n",
    "        self.add_module('BN_2', nn.BatchNorm2d(bn_size * growth_rate))\n",
    "        self.add_module('chromo', chromosome) # questo è il cromosoma\n",
    "        self.add_module('relu_2', nn.ReLU(inplace=True))\n",
    "        self.drop_rate = float(drop_rate)\n",
    "        self.memory_efficient = memory_efficient\n",
    "\n",
    "    def bn_function(self, inputs):\n",
    "        \"Bottleneck function\"\n",
    "        # type: (List[Tensor]) -> Tensor\n",
    "        concated_features = torch.cat(inputs, 1)\n",
    "        bottleneck_output = self.relu_1(self.conv1(self.BN_1(concated_features)))  # noqa: T484\n",
    "        return bottleneck_output\n",
    "\n",
    "    def forward(self, input):  # noqa: F811\n",
    "        if torch.is_tensor(input):\n",
    "            prev_features = [input]\n",
    "        else:\n",
    "            prev_features = input\n",
    "\n",
    "        bottleneck_output = self.bn_function(prev_features)\n",
    "        new_features = self.relu_2(self.chromo(self.BN_2(bottleneck_output)))\n",
    "        if self.drop_rate > 0:\n",
    "            new_features = F.dropout(new_features, p=self.drop_rate,\n",
    "                                     training=self.training)\n",
    "        return new_features\n",
    "\n",
    "\n",
    "\n",
    "class _DenseBlock(nn.ModuleDict):\n",
    "    _version = 2\n",
    "\n",
    "    def __init__(self, num_layers, num_input_features, bn_size, growth_rate, drop_rate, memory_efficient=False, chromoconfig=None):\n",
    "        super(_DenseBlock, self).__init__()\n",
    "\n",
    "        self.chromosome = _Chromotype(num_layers, bn_size*growth_rate, growth_rate, inerithance=None)\n",
    "        print(self.chromosome.config)\n",
    "\n",
    "\n",
    "        for i in range(num_layers):\n",
    "            layer = _DenseLayer(\n",
    "                self.chromosome.get_chromotype(self.chromosome.config[i]),\n",
    "                num_input_features + i * growth_rate,\n",
    "                growth_rate=growth_rate,\n",
    "                bn_size=bn_size,\n",
    "                drop_rate=drop_rate,\n",
    "                memory_efficient=memory_efficient,\n",
    "            )\n",
    "            self.add_module('denselayer%d' % (i + 1), layer)\n",
    "\n",
    "    def forward(self, init_features):\n",
    "        features = [init_features]\n",
    "        for name, layer in self.items():\n",
    "            new_features = layer(features)\n",
    "            features.append(new_features)\n",
    "        return torch.cat(features, 1)\n",
    "\n",
    "class DenseNet(nn.Module):\n",
    "    def __init__(self, growth_rate=32, block_config=(1, 1, 1, 1),           #3 blocchi da 3 layer ciascuno\n",
    "                 num_init_features=64, bn_size=4, drop_rate=0, num_classes=10, memory_efficient=False):\n",
    "\n",
    "        super(DenseNet, self).__init__()\n",
    "\n",
    "        #Convolution and pooling part from table-1\n",
    "        self.features = nn.Sequential(OrderedDict([\n",
    "            ('conv0', nn.Conv2d(3, num_init_features, kernel_size=7, stride=2,\n",
    "                                padding=3, bias=False)),\n",
    "            ('norm0', nn.BatchNorm2d(num_init_features)),\n",
    "            ('relu0', nn.ReLU(inplace=True)),\n",
    "            ('pool0', nn.MaxPool2d(kernel_size=3, stride=2, padding=1)),\n",
    "        ]))\n",
    "       # self.features = nn.Sequential()\n",
    "        # Add multiple denseblocks based on config \n",
    "        # for densenet-121 config: [6,12,24,16]\n",
    "        num_features = num_init_features\n",
    "        for i, num_layers in enumerate(block_config):\n",
    "            block = _DenseBlock(\n",
    "                num_layers=num_layers,\n",
    "                num_input_features=num_features,\n",
    "                bn_size=bn_size,\n",
    "                growth_rate=growth_rate,\n",
    "                drop_rate=drop_rate,\n",
    "                memory_efficient=memory_efficient\n",
    "            )\n",
    "            self.features.add_module('denseblock%d' % (i + 1), block)\n",
    "            num_features = num_features + num_layers * growth_rate\n",
    "            if i != len(block_config) - 1:\n",
    "                # add transition layer between denseblocks to \n",
    "                # downsample\n",
    "                trans = _Transition(num_input_features=num_features,\n",
    "                                    num_output_features=num_features // 2)\n",
    "                self.features.add_module('transition%d' % (i + 1), trans)\n",
    "                num_features = num_features // 2\n",
    "\n",
    "        # Final batch norm\n",
    "        self.features.add_module('norm5', nn.BatchNorm2d(num_features))\n",
    "\n",
    "        # Linear layer\n",
    "        self.classifier = nn.Linear(num_features, num_classes)\n",
    "\n",
    "        # Official init from torch repo.\n",
    "        for m in self.modules():\n",
    "            if isinstance(m, nn.Conv2d):\n",
    "                nn.init.kaiming_normal_(m.weight)\n",
    "            elif isinstance(m, nn.BatchNorm2d):\n",
    "                nn.init.constant_(m.weight, 1)\n",
    "                nn.init.constant_(m.bias, 0)\n",
    "            elif isinstance(m, nn.Linear):\n",
    "                nn.init.constant_(m.bias, 0)\n",
    "\n",
    "    def forward(self, x):\n",
    "        features = self.features(x)\n",
    "        out = F.relu(features, inplace=True)\n",
    "        out = F.adaptive_avg_pool2d(out, (1, 1))\n",
    "        out = torch.flatten(out, 1)\n",
    "        out = self.classifier(out)\n",
    "        return out\n",
    "\n",
    "net = DenseNet()"
   ]
  },
  {
   "cell_type": "markdown",
   "metadata": {},
   "source": [
    "Test the network:"
   ]
  },
  {
   "cell_type": "code",
   "execution_count": 94,
   "metadata": {},
   "outputs": [
    {
     "data": {
      "image/png": "[encoded data removed]",
      "text/plain": [
       "<Figure size 432x288 with 1 Axes>"
      ]
     },
     "metadata": {
      "needs_background": "light"
     },
     "output_type": "display_data"
    },
    {
     "ename": "RuntimeError",
     "evalue": "Sizes of tensors must match except in dimension 1. Expected size 8 but got size 10 for tensor number 1 in the list.",
     "output_type": "error",
     "traceback": [
      "\u001b[0;31m---------------------------------------------------------------------------\u001b[0m",
      "\u001b[0;31mRuntimeError\u001b[0m                              Traceback (most recent call last)",
      "\u001b[1;32m/home/francesco/Repository/Genetics_ANN/Architecture_selection/NN_selection.ipynb Cell 11\u001b[0m in \u001b[0;36m<cell line: 10>\u001b[0;34m()\u001b[0m\n\u001b[1;32m      <a href='vscode-notebook-cell:/home/francesco/Repository/Genetics_ANN/Architecture_selection/NN_selection.ipynb#X16sZmlsZQ%3D%3D?line=6'>7</a>\u001b[0m     plt\u001b[39m.\u001b[39mshow()\n\u001b[1;32m      <a href='vscode-notebook-cell:/home/francesco/Repository/Genetics_ANN/Architecture_selection/NN_selection.ipynb#X16sZmlsZQ%3D%3D?line=8'>9</a>\u001b[0m imgshow(torchvision\u001b[39m.\u001b[39mutils\u001b[39m.\u001b[39mmake_grid(images))\n\u001b[0;32m---> <a href='vscode-notebook-cell:/home/francesco/Repository/Genetics_ANN/Architecture_selection/NN_selection.ipynb#X16sZmlsZQ%3D%3D?line=9'>10</a>\u001b[0m \u001b[39mprint\u001b[39m(net(images)\u001b[39m.\u001b[39mshape)\n",
      "File \u001b[0;32m~/anaconda3/envs/deep_le/lib/python3.9/site-packages/torch/nn/modules/module.py:1110\u001b[0m, in \u001b[0;36mModule._call_impl\u001b[0;34m(self, *input, **kwargs)\u001b[0m\n\u001b[1;32m   1106\u001b[0m \u001b[39m# If we don't have any hooks, we want to skip the rest of the logic in\u001b[39;00m\n\u001b[1;32m   1107\u001b[0m \u001b[39m# this function, and just call forward.\u001b[39;00m\n\u001b[1;32m   1108\u001b[0m \u001b[39mif\u001b[39;00m \u001b[39mnot\u001b[39;00m (\u001b[39mself\u001b[39m\u001b[39m.\u001b[39m_backward_hooks \u001b[39mor\u001b[39;00m \u001b[39mself\u001b[39m\u001b[39m.\u001b[39m_forward_hooks \u001b[39mor\u001b[39;00m \u001b[39mself\u001b[39m\u001b[39m.\u001b[39m_forward_pre_hooks \u001b[39mor\u001b[39;00m _global_backward_hooks\n\u001b[1;32m   1109\u001b[0m         \u001b[39mor\u001b[39;00m _global_forward_hooks \u001b[39mor\u001b[39;00m _global_forward_pre_hooks):\n\u001b[0;32m-> 1110\u001b[0m     \u001b[39mreturn\u001b[39;00m forward_call(\u001b[39m*\u001b[39;49m\u001b[39minput\u001b[39;49m, \u001b[39m*\u001b[39;49m\u001b[39m*\u001b[39;49mkwargs)\n\u001b[1;32m   1111\u001b[0m \u001b[39m# Do not call functions when jit is used\u001b[39;00m\n\u001b[1;32m   1112\u001b[0m full_backward_hooks, non_full_backward_hooks \u001b[39m=\u001b[39m [], []\n",
      "\u001b[1;32m/home/francesco/Repository/Genetics_ANN/Architecture_selection/NN_selection.ipynb Cell 11\u001b[0m in \u001b[0;36mDenseNet.forward\u001b[0;34m(self, x)\u001b[0m\n\u001b[1;32m    <a href='vscode-notebook-cell:/home/francesco/Repository/Genetics_ANN/Architecture_selection/NN_selection.ipynb#X16sZmlsZQ%3D%3D?line=134'>135</a>\u001b[0m \u001b[39mdef\u001b[39;00m \u001b[39mforward\u001b[39m(\u001b[39mself\u001b[39m, x):\n\u001b[0;32m--> <a href='vscode-notebook-cell:/home/francesco/Repository/Genetics_ANN/Architecture_selection/NN_selection.ipynb#X16sZmlsZQ%3D%3D?line=135'>136</a>\u001b[0m     features \u001b[39m=\u001b[39m \u001b[39mself\u001b[39;49m\u001b[39m.\u001b[39;49mfeatures(x)\n\u001b[1;32m    <a href='vscode-notebook-cell:/home/francesco/Repository/Genetics_ANN/Architecture_selection/NN_selection.ipynb#X16sZmlsZQ%3D%3D?line=136'>137</a>\u001b[0m     out \u001b[39m=\u001b[39m F\u001b[39m.\u001b[39mrelu(features, inplace\u001b[39m=\u001b[39m\u001b[39mTrue\u001b[39;00m)\n\u001b[1;32m    <a href='vscode-notebook-cell:/home/francesco/Repository/Genetics_ANN/Architecture_selection/NN_selection.ipynb#X16sZmlsZQ%3D%3D?line=137'>138</a>\u001b[0m     out \u001b[39m=\u001b[39m F\u001b[39m.\u001b[39madaptive_avg_pool2d(out, (\u001b[39m1\u001b[39m, \u001b[39m1\u001b[39m))\n",
      "File \u001b[0;32m~/anaconda3/envs/deep_le/lib/python3.9/site-packages/torch/nn/modules/module.py:1110\u001b[0m, in \u001b[0;36mModule._call_impl\u001b[0;34m(self, *input, **kwargs)\u001b[0m\n\u001b[1;32m   1106\u001b[0m \u001b[39m# If we don't have any hooks, we want to skip the rest of the logic in\u001b[39;00m\n\u001b[1;32m   1107\u001b[0m \u001b[39m# this function, and just call forward.\u001b[39;00m\n\u001b[1;32m   1108\u001b[0m \u001b[39mif\u001b[39;00m \u001b[39mnot\u001b[39;00m (\u001b[39mself\u001b[39m\u001b[39m.\u001b[39m_backward_hooks \u001b[39mor\u001b[39;00m \u001b[39mself\u001b[39m\u001b[39m.\u001b[39m_forward_hooks \u001b[39mor\u001b[39;00m \u001b[39mself\u001b[39m\u001b[39m.\u001b[39m_forward_pre_hooks \u001b[39mor\u001b[39;00m _global_backward_hooks\n\u001b[1;32m   1109\u001b[0m         \u001b[39mor\u001b[39;00m _global_forward_hooks \u001b[39mor\u001b[39;00m _global_forward_pre_hooks):\n\u001b[0;32m-> 1110\u001b[0m     \u001b[39mreturn\u001b[39;00m forward_call(\u001b[39m*\u001b[39;49m\u001b[39minput\u001b[39;49m, \u001b[39m*\u001b[39;49m\u001b[39m*\u001b[39;49mkwargs)\n\u001b[1;32m   1111\u001b[0m \u001b[39m# Do not call functions when jit is used\u001b[39;00m\n\u001b[1;32m   1112\u001b[0m full_backward_hooks, non_full_backward_hooks \u001b[39m=\u001b[39m [], []\n",
      "File \u001b[0;32m~/anaconda3/envs/deep_le/lib/python3.9/site-packages/torch/nn/modules/container.py:141\u001b[0m, in \u001b[0;36mSequential.forward\u001b[0;34m(self, input)\u001b[0m\n\u001b[1;32m    139\u001b[0m \u001b[39mdef\u001b[39;00m \u001b[39mforward\u001b[39m(\u001b[39mself\u001b[39m, \u001b[39minput\u001b[39m):\n\u001b[1;32m    140\u001b[0m     \u001b[39mfor\u001b[39;00m module \u001b[39min\u001b[39;00m \u001b[39mself\u001b[39m:\n\u001b[0;32m--> 141\u001b[0m         \u001b[39minput\u001b[39m \u001b[39m=\u001b[39m module(\u001b[39minput\u001b[39;49m)\n\u001b[1;32m    142\u001b[0m     \u001b[39mreturn\u001b[39;00m \u001b[39minput\u001b[39m\n",
      "File \u001b[0;32m~/anaconda3/envs/deep_le/lib/python3.9/site-packages/torch/nn/modules/module.py:1110\u001b[0m, in \u001b[0;36mModule._call_impl\u001b[0;34m(self, *input, **kwargs)\u001b[0m\n\u001b[1;32m   1106\u001b[0m \u001b[39m# If we don't have any hooks, we want to skip the rest of the logic in\u001b[39;00m\n\u001b[1;32m   1107\u001b[0m \u001b[39m# this function, and just call forward.\u001b[39;00m\n\u001b[1;32m   1108\u001b[0m \u001b[39mif\u001b[39;00m \u001b[39mnot\u001b[39;00m (\u001b[39mself\u001b[39m\u001b[39m.\u001b[39m_backward_hooks \u001b[39mor\u001b[39;00m \u001b[39mself\u001b[39m\u001b[39m.\u001b[39m_forward_hooks \u001b[39mor\u001b[39;00m \u001b[39mself\u001b[39m\u001b[39m.\u001b[39m_forward_pre_hooks \u001b[39mor\u001b[39;00m _global_backward_hooks\n\u001b[1;32m   1109\u001b[0m         \u001b[39mor\u001b[39;00m _global_forward_hooks \u001b[39mor\u001b[39;00m _global_forward_pre_hooks):\n\u001b[0;32m-> 1110\u001b[0m     \u001b[39mreturn\u001b[39;00m forward_call(\u001b[39m*\u001b[39;49m\u001b[39minput\u001b[39;49m, \u001b[39m*\u001b[39;49m\u001b[39m*\u001b[39;49mkwargs)\n\u001b[1;32m   1111\u001b[0m \u001b[39m# Do not call functions when jit is used\u001b[39;00m\n\u001b[1;32m   1112\u001b[0m full_backward_hooks, non_full_backward_hooks \u001b[39m=\u001b[39m [], []\n",
      "\u001b[1;32m/home/francesco/Repository/Genetics_ANN/Architecture_selection/NN_selection.ipynb Cell 11\u001b[0m in \u001b[0;36m_DenseBlock.forward\u001b[0;34m(self, init_features)\u001b[0m\n\u001b[1;32m     <a href='vscode-notebook-cell:/home/francesco/Repository/Genetics_ANN/Architecture_selection/NN_selection.ipynb#X16sZmlsZQ%3D%3D?line=77'>78</a>\u001b[0m     new_features \u001b[39m=\u001b[39m layer(features)\n\u001b[1;32m     <a href='vscode-notebook-cell:/home/francesco/Repository/Genetics_ANN/Architecture_selection/NN_selection.ipynb#X16sZmlsZQ%3D%3D?line=78'>79</a>\u001b[0m     features\u001b[39m.\u001b[39mappend(new_features)\n\u001b[0;32m---> <a href='vscode-notebook-cell:/home/francesco/Repository/Genetics_ANN/Architecture_selection/NN_selection.ipynb#X16sZmlsZQ%3D%3D?line=79'>80</a>\u001b[0m \u001b[39mreturn\u001b[39;00m torch\u001b[39m.\u001b[39;49mcat(features, \u001b[39m1\u001b[39;49m)\n",
      "\u001b[0;31mRuntimeError\u001b[0m: Sizes of tensors must match except in dimension 1. Expected size 8 but got size 10 for tensor number 1 in the list."
     ]
    }
   ],
   "source": [
    "images , classes = next(iter(trainloader))\n",
    "\n",
    "def imgshow(img):\n",
    "    img = img / 2 + 0.5\n",
    "    npimg = img.numpy()\n",
    "    plt.imshow(np.transpose(npimg, (1, 2, 0)))\n",
    "    plt.show()\n",
    "\n",
    "imgshow(torchvision.utils.make_grid(images))\n",
    "print(net(images).shape)"
   ]
  },
  {
   "cell_type": "markdown",
   "metadata": {},
   "source": [
    "### Define chromosomes\n",
    "\n",
    "In this version each image will feed in the whole network with different kernel size. The kernel size will be selected by the genetic algorithm."
   ]
  },
  {
   "cell_type": "code",
   "execution_count": 149,
   "metadata": {},
   "outputs": [],
   "source": [
    "chromo = [ [nn.Conv2d(3,3,kernel_size=(1,3) ), nn.ReLU(), nn.BatchNorm2d(3), nn.Conv2d(3,3,kernel_size=(3,1))], [nn.Conv2d(3,3,kernel_size=(1,7)),nn.ReLU(), nn.BatchNorm2d(3), nn.Conv2d(3,3,kernel_size=(7,1))], \n",
    "[nn.Conv2d(3,3,3)], [nn.Conv2d(3,3,3, dilation=2)], [nn.Conv2d(3,3,1)] ]   # mancano le depthwise convolution "
   ]
  },
  {
   "cell_type": "markdown",
   "metadata": {},
   "source": [
    "Create an instance of the network with the corresponding chromosome:"
   ]
  },
  {
   "cell_type": "code",
   "execution_count": 154,
   "metadata": {},
   "outputs": [
    {
     "name": "stdout",
     "output_type": "stream",
     "text": [
      "[[Conv2d(3, 3, kernel_size=(1, 3), stride=(1, 1)), ReLU(), BatchNorm2d(3, eps=1e-05, momentum=0.1, affine=True, track_running_stats=True), Conv2d(3, 3, kernel_size=(3, 1), stride=(1, 1))], [Conv2d(3, 3, kernel_size=(1, 7), stride=(1, 1)), ReLU(), BatchNorm2d(3, eps=1e-05, momentum=0.1, affine=True, track_running_stats=True), Conv2d(3, 3, kernel_size=(7, 1), stride=(1, 1))]]\n",
      "BatchNorm2d(3, eps=1e-05, momentum=0.1, affine=True, track_running_stats=True)\n",
      "Conv2d(3, 3, kernel_size=(1, 1), stride=(1, 1))\n",
      "ReLU()\n",
      "AvgPool2d(kernel_size=(2, 2), stride=(2, 2), padding=0)\n",
      "BatchNorm2d(3, eps=1e-05, momentum=0.1, affine=True, track_running_stats=True)\n",
      "Conv2d(3, 3, kernel_size=(1, 3), stride=(1, 1))\n",
      "ReLU()\n",
      "BatchNorm2d(3, eps=1e-05, momentum=0.1, affine=True, track_running_stats=True)\n",
      "Conv2d(3, 3, kernel_size=(3, 1), stride=(1, 1))\n",
      "ReLU()\n",
      "BatchNorm2d(3, eps=1e-05, momentum=0.1, affine=True, track_running_stats=True)\n",
      "Conv2d(3, 3, kernel_size=(1, 1), stride=(1, 1))\n",
      "ReLU()\n",
      "AvgPool2d(kernel_size=(2, 2), stride=(2, 2), padding=0)\n",
      "BatchNorm2d(3, eps=1e-05, momentum=0.1, affine=True, track_running_stats=True)\n",
      "Conv2d(3, 3, kernel_size=(1, 7), stride=(1, 1))\n",
      "ReLU()\n",
      "BatchNorm2d(3, eps=1e-05, momentum=0.1, affine=True, track_running_stats=True)\n",
      "Conv2d(3, 3, kernel_size=(7, 1), stride=(1, 1))\n",
      "ReLU()\n"
     ]
    }
   ],
   "source": [
    "copia = copy.deepcopy(chromo)\n",
    "print(copia[0:2])\n",
    "individual = Individual(copia[0:2])"
   ]
  },
  {
   "cell_type": "code",
   "execution_count": 110,
   "metadata": {},
   "outputs": [
    {
     "name": "stdout",
     "output_type": "stream",
     "text": [
      "[[Conv2d(3, 3, kernel_size=(3, 3), stride=(1, 1)), Conv2d(3, 3, kernel_size=(3, 1), stride=(1, 1)), BatchNorm2d(3, eps=1e-05, momentum=0.1, affine=True, track_running_stats=True), Conv2d(3, 3, kernel_size=(1, 1), stride=(1, 1)), ReLU(), MaxPool2d(kernel_size=(2, 2), stride=(2, 2), padding=0, dilation=1, ceil_mode=False)], [Conv2d(3, 3, kernel_size=(1, 7), stride=(1, 1)), Conv2d(3, 3, kernel_size=(7, 1), stride=(1, 1)), BatchNorm2d(3, eps=1e-05, momentum=0.1, affine=True, track_running_stats=True), Conv2d(3, 3, kernel_size=(1, 1), stride=(1, 1)), ReLU(), MaxPool2d(kernel_size=(2, 2), stride=(2, 2), padding=0, dilation=1, ceil_mode=False)]]\n"
     ]
    }
   ],
   "source": [
    "print(copia[0:3])"
   ]
  },
  {
   "cell_type": "markdown",
   "metadata": {},
   "source": [
    "Plot the the output of the network:"
   ]
  }
 ],
 "metadata": {
  "kernelspec": {
   "display_name": "Python 3.9.7 ('deep_le')",
   "language": "python",
   "name": "python3"
  },
  "language_info": {
   "codemirror_mode": {
    "name": "ipython",
    "version": 3
   },
   "file_extension": ".py",
   "mimetype": "text/x-python",
   "name": "python",
   "nbconvert_exporter": "python",
   "pygments_lexer": "ipython3",
   "version": "3.9.7"
  },
  "orig_nbformat": 4,
  "vscode": {
   "interpreter": {
    "hash": "a142b7d21e8575b7566c168744f24153333bb674c4e2523209192565d5391819"
   }
  }
 },
 "nbformat": 4,
 "nbformat_minor": 2
}
