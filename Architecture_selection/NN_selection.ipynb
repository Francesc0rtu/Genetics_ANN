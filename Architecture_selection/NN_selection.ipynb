{
 "cells": [
  {
   "cell_type": "markdown",
   "metadata": {},
   "source": [
    "# Selection network architecture with genetics algorithm"
   ]
  },
  {
   "cell_type": "markdown",
   "metadata": {},
   "source": [
    "This notebook is inspired by the following paper: [Efficient Architecture Search for Deep Neural Networks](https://www.sciencedirect.com/science/article/pii/S1877050920303859)"
   ]
  },
  {
   "cell_type": "code",
   "execution_count": 2,
   "metadata": {},
   "outputs": [],
   "source": [
    "import torch\n",
    "import torchvision\n",
    "import torchvision.transforms as transforms\n",
    "import torch.nn as nn\n",
    "import torch.nn.functional as F\n",
    "import matplotlib.pyplot as plt\n",
    "import numpy as np\n",
    "import copy\n",
    "from collections import OrderedDict\n",
    "from scripts import utils\n",
    "\n",
    "%load_ext autoreload\n",
    "%autoreload 2"
   ]
  },
  {
   "cell_type": "markdown",
   "metadata": {},
   "source": [
    "### Import dataset"
   ]
  },
  {
   "cell_type": "code",
   "execution_count": 3,
   "metadata": {},
   "outputs": [
    {
     "name": "stdout",
     "output_type": "stream",
     "text": [
      "Files already downloaded and verified\n",
      "Files already downloaded and verified\n"
     ]
    }
   ],
   "source": [
    "from scripts import cifar10\n",
    "trainloader, testloader, classes = cifar10.cifar10()"
   ]
  },
  {
   "cell_type": "markdown",
   "metadata": {},
   "source": [
    "### Define basic network"
   ]
  },
  {
   "cell_type": "code",
   "execution_count": 51,
   "metadata": {},
   "outputs": [
    {
     "data": {
      "text/plain": [
       "(32, 32)"
      ]
     },
     "execution_count": 51,
     "metadata": {},
     "output_type": "execute_result"
    }
   ],
   "source": [
    "utils.compute_output_conv2d((32,32), kernel_size=(3,3), padding=(1,1), stride=(1,1), dilation=(1,1))"
   ]
  },
  {
   "cell_type": "code",
   "execution_count": 18,
   "metadata": {},
   "outputs": [
    {
     "data": {
      "text/plain": [
       "32"
      ]
     },
     "execution_count": 18,
     "metadata": {},
     "output_type": "execute_result"
    }
   ],
   "source": [
    "\n",
    "utils.compute_output_conv2d(32, kernel_size=1, padding=0, stride=1, dilation=1)"
   ]
  },
  {
   "cell_type": "code",
   "execution_count": 4,
   "metadata": {},
   "outputs": [],
   "source": [
    "class _Chromotype():\n",
    "    def __init__(self, num_layers, num_input, num_output, inerithance=None):\n",
    "        self.num_layers = num_layers   # numero di layer che dipendono dal cromosoma (in questo caso per ogni blocco denso:)\n",
    "        self.num_input = num_input     # size of the input features (channels)\n",
    "        self.num_output = num_output  # size of the output features (channels)\n",
    "        \n",
    "\n",
    "        #define chromosome types\n",
    "        # questi sono i layer che possono essere usati \n",
    "        self.lchromosomes = [\n",
    "                            nn.Conv2d(num_input, num_output, kernel_size=1, padding=0),\n",
    "                            nn.Conv2d(num_input, num_output,\n",
    "                                           kernel_size=3, stride=1, padding=1,\n",
    "                                           bias=False),\n",
    "                            nn.Conv2d(num_input, num_output,\n",
    "                                           kernel_size=5, stride=1, padding=2 ,groups=2,\n",
    "                                           bias=False),\n",
    "                            nn.Conv2d(num_input, num_output,\n",
    "                                           kernel_size=7, stride=1, padding=3 ,groups=2,\n",
    "                                           bias=False),\n",
    "                            nn.Conv2d(num_input, num_output,\n",
    "                                            kernel_size=3, stride=1, padding=1 ,groups=2,  dilation=1,\n",
    "                                            bias=False)\n",
    "                            ]\n",
    "        self.number_of_genes = len(self.lchromosomes) # numero di possibili layer per chromosome\n",
    "\n",
    "        # inizializzazione della configurazione.\n",
    "        #  Il parametro inerithance serve (in futuro) per inizializzare la configurazione a partire da una configurazione precedente                    \n",
    "        if(inerithance is None):\n",
    "            self.config = []\n",
    "            for i in range(self.num_layers):        # inizializza randomicamente la configurazione\n",
    "                self.config.append(np.random.randint(0, self.number_of_genes))\n",
    "            self.config = np.array(self.config)\n",
    "            \n",
    "    def get_chromotype(self, el):    # restituisce il layer corrispondente al gene\n",
    "        if el>= self.number_of_genes:\n",
    "            raise ValueError(\"chromosome index out of range\")\n",
    "        return self.lchromosomes[el]\n",
    "    \n"
   ]
  },
  {
   "cell_type": "markdown",
   "metadata": {},
   "source": [
    "La rete è composta da 4 blocchi densi, ognuno composto da 3 layer densi. Tra i blocchi vi è un layer di transizione.\n",
    "\n",
    "input--- > __[layer1 --> layer2 --> layer3]__ --> trans_layer1 --> __[layer1 --> layer2 --> layer3]__ --> trans_layer2 --> __[layer1 --> layer2 --> layer3]__  --> trans_layer3 -->  __[layer1 --> layer2 --> layer3]__ --> flatten e MLP --> output (10 classi)\n",
    "\n",
    "Un layer denso è così composto (___bottleneck___):\n",
    "\n",
    "___BatchNorm --> Conv 1x1 --> ReLU___ --> BatchNorm --> Cromosoma --> Relu \n",
    "\n",
    "\n",
    "Ogni layer denso prende in input l'output del layer precedente e l'input del layer precedente (se esiste). Tutti gli input sono concatenati e passano attraverso il bottlenck per ridurre le dimensioni e tenerle costanti e poi passano nel \"cuore\" del layer.\n"
   ]
  },
  {
   "cell_type": "code",
   "execution_count": 6,
   "metadata": {},
   "outputs": [
    {
     "name": "stdout",
     "output_type": "stream",
     "text": [
      "configurazione blocco denso: [3 2 3]\n",
      "Conv2d(128, 32, kernel_size=(7, 7), stride=(1, 1), padding=(3, 3), groups=2, bias=False)\n",
      "Conv2d(128, 32, kernel_size=(5, 5), stride=(1, 1), padding=(2, 2), groups=2, bias=False)\n",
      "Conv2d(128, 32, kernel_size=(7, 7), stride=(1, 1), padding=(3, 3), groups=2, bias=False)\n",
      "configurazione blocco denso: [3 1 4]\n",
      "Conv2d(128, 32, kernel_size=(7, 7), stride=(1, 1), padding=(3, 3), groups=2, bias=False)\n",
      "Conv2d(128, 32, kernel_size=(3, 3), stride=(1, 1), padding=(1, 1), bias=False)\n",
      "Conv2d(128, 32, kernel_size=(3, 3), stride=(1, 1), padding=(1, 1), groups=2, bias=False)\n",
      "configurazione blocco denso: [0 1 2]\n",
      "Conv2d(128, 32, kernel_size=(1, 1), stride=(1, 1))\n",
      "Conv2d(128, 32, kernel_size=(3, 3), stride=(1, 1), padding=(1, 1), bias=False)\n",
      "Conv2d(128, 32, kernel_size=(5, 5), stride=(1, 1), padding=(2, 2), groups=2, bias=False)\n",
      "configurazione blocco denso: [1 3 0]\n",
      "Conv2d(128, 32, kernel_size=(3, 3), stride=(1, 1), padding=(1, 1), bias=False)\n",
      "Conv2d(128, 32, kernel_size=(7, 7), stride=(1, 1), padding=(3, 3), groups=2, bias=False)\n",
      "Conv2d(128, 32, kernel_size=(1, 1), stride=(1, 1))\n"
     ]
    }
   ],
   "source": [
    "class _Transition(nn.Sequential): # layer di transizione tra due blocchi densi\n",
    "    def __init__(self, num_input_features, num_output_features):\n",
    "        super(_Transition, self).__init__()\n",
    "        self.add_module('BN', nn.BatchNorm2d(num_input_features))\n",
    "        self.add_module('1x1', nn.Conv2d(num_input_features, num_output_features,\n",
    "                                          kernel_size=1, stride=1, bias=False))\n",
    "        self.add_module('relu', nn.ReLU(inplace=True))\n",
    "        self.add_module('pool', nn.AvgPool2d(kernel_size=2, stride=2))\n",
    "\n",
    "\n",
    "\n",
    "    \n",
    "#define dense layer and bottleneck layer\n",
    "class _DenseLayer(nn.Module): \n",
    "    def __init__(self,chromosome, num_input_features, growth_rate, bn_size, drop_rate, memory_efficient=False):\n",
    "        print(chromosome)\n",
    "        super(_DenseLayer, self).__init__()\n",
    "        self.add_module('BN_1', nn.BatchNorm2d(num_input_features))\n",
    "        self.add_module('conv1', nn.Conv2d(num_input_features, bn_size *\n",
    "                                           growth_rate, kernel_size=1, stride=1,\n",
    "                                           bias=False))\n",
    "        self.add_module('relu_1', nn.ReLU(inplace=True))\n",
    "        self.add_module('BN_2', nn.BatchNorm2d(bn_size * growth_rate))\n",
    "        self.add_module('chromo', chromosome) # questo è il cromosoma, il layer viene passato come parametro dal blocco denso corrispondente\n",
    "        self.add_module('relu_2', nn.ReLU(inplace=True))\n",
    "        self.drop_rate = float(drop_rate)\n",
    "        self.memory_efficient = memory_efficient\n",
    "\n",
    "    def bn_function(self, inputs):      \n",
    "        \"Bottleneck function\"\n",
    "        # type: (List[Tensor]) -> Tensor\n",
    "        concated_features = torch.cat(inputs, 1)\n",
    "        bottleneck_output = self.relu_1(self.conv1(self.BN_1(concated_features)))  # noqa: T484\n",
    "        return bottleneck_output\n",
    "\n",
    "    def forward(self, input):  # noqa: F811\n",
    "        if torch.is_tensor(input):\n",
    "            prev_features = [input]\n",
    "        else:\n",
    "            prev_features = input\n",
    "\n",
    "        bottleneck_output = self.bn_function(prev_features)\n",
    "        new_features = self.relu_2(self.chromo(self.BN_2(bottleneck_output)))\n",
    "        if self.drop_rate > 0:\n",
    "            new_features = F.dropout(new_features, p=self.drop_rate,\n",
    "                                     training=self.training)\n",
    "        return new_features\n",
    "\n",
    "\n",
    "\n",
    "class _DenseBlock(nn.ModuleDict):\n",
    "    _version = 2\n",
    "\n",
    "    def __init__(self, num_layers, num_input_features, bn_size, growth_rate, drop_rate, memory_efficient=False, chromoconfig=None):\n",
    "        super(_DenseBlock, self).__init__()\n",
    "\n",
    "        self.chromosome = _Chromotype(num_layers, bn_size*growth_rate, growth_rate, inerithance=None) # ogni blocco ha una configurazione per i layer\n",
    "        print(\"configurazione blocco denso:\", self.chromosome.config)\n",
    "\n",
    "\n",
    "        for i in range(num_layers):\n",
    "            layer = _DenseLayer(        # il blocco denso è composto da num_layers layer, ogni layer ha un cromosoma diverso \n",
    "                self.chromosome.get_chromotype(self.chromosome.config[i]),\n",
    "                num_input_features + i * growth_rate,\n",
    "                growth_rate=growth_rate,\n",
    "                bn_size=bn_size,\n",
    "                drop_rate=drop_rate,\n",
    "                memory_efficient=memory_efficient,\n",
    "            )\n",
    "            self.add_module('denselayer%d' % (i + 1), layer)\n",
    "\n",
    "    def forward(self, init_features):\n",
    "        features = [init_features]\n",
    "        for name, layer in self.items():\n",
    "            new_features = layer(features)\n",
    "            features.append(new_features)\n",
    "        return torch.cat(features, 1)\n",
    "\n",
    "class DenseNet(nn.Module):\n",
    "    def __init__(self, growth_rate=32, block_config=(3, 3, 3, 3),           #4 blocchi da 3 layer ciascuno\n",
    "                 num_init_features=64, bn_size=4, drop_rate=0, num_classes=10, memory_efficient=False):\n",
    "\n",
    "        super(DenseNet, self).__init__()\n",
    "\n",
    "        # layer iniziali prima del primo blocco denso:\n",
    "        # self.features = nn.Sequential(OrderedDict([\n",
    "        #     ('conv0', nn.Conv2d(3, num_init_features, kernel_size=7, stride=2,\n",
    "        #                         padding=3, bias=False)),\n",
    "        #     ('norm0', nn.BatchNorm2d(num_init_features)),\n",
    "        #     ('relu0', nn.ReLU(inplace=True)),\n",
    "        #     ('pool0', nn.MaxPool2d(kernel_size=3, stride=2, padding=1)),\n",
    "        # ]))\n",
    "\n",
    "\n",
    "        self.features = nn.Sequential()  \n",
    "        \n",
    "        \n",
    "        \n",
    "        num_features = num_init_features\n",
    "        for i, num_layers in enumerate(block_config):\n",
    "            block = _DenseBlock(\n",
    "                num_layers=num_layers,\n",
    "                num_input_features=num_features,\n",
    "                bn_size=bn_size,\n",
    "                growth_rate=growth_rate,\n",
    "                drop_rate=drop_rate,\n",
    "                memory_efficient=memory_efficient\n",
    "            )\n",
    "            self.features.add_module('denseblock%d' % (i + 1), block)\n",
    "            num_features = num_features + num_layers * growth_rate\n",
    "            if i != len(block_config) - 1:\n",
    "                # add transition layer between denseblocks to \n",
    "                # downsample\n",
    "                trans = _Transition(num_input_features=num_features,\n",
    "                                    num_output_features=num_features // 2)\n",
    "                self.features.add_module('transition%d' % (i + 1), trans)\n",
    "                num_features = num_features // 2\n",
    "\n",
    "        # Final batch norm\n",
    "        self.features.add_module('norm5', nn.BatchNorm2d(num_features))\n",
    "\n",
    "        # Linear layer\n",
    "        self.classifier = nn.Linear(num_features, num_classes)\n",
    "\n",
    "        # Official init from torch repo.\n",
    "        for m in self.modules():\n",
    "            if isinstance(m, nn.Conv2d):\n",
    "                nn.init.kaiming_normal_(m.weight)\n",
    "            elif isinstance(m, nn.BatchNorm2d):\n",
    "                nn.init.constant_(m.weight, 1)\n",
    "                nn.init.constant_(m.bias, 0)\n",
    "            elif isinstance(m, nn.Linear):\n",
    "                nn.init.constant_(m.bias, 0)\n",
    "\n",
    "    def forward(self, x):\n",
    "        features = self.features(x)\n",
    "        out = F.relu(features, inplace=True)\n",
    "        out = F.adaptive_avg_pool2d(out, (1, 1))\n",
    "        out = torch.flatten(out, 1)\n",
    "        out = self.classifier(out)\n",
    "        return out\n",
    "\n",
    "\n",
    "net = DenseNet()"
   ]
  },
  {
   "cell_type": "markdown",
   "metadata": {},
   "source": [
    "Test the network:"
   ]
  },
  {
   "cell_type": "code",
   "execution_count": 8,
   "metadata": {},
   "outputs": [
    {
     "data": {
      "image/png": "[encoded data removed]",
      "text/plain": [
       "<Figure size 432x288 with 1 Axes>"
      ]
     },
     "metadata": {
      "needs_background": "light"
     },
     "output_type": "display_data"
    },
    {
     "name": "stdout",
     "output_type": "stream",
     "text": [
      "torch.Size([4, 10])\n"
     ]
    }
   ],
   "source": [
    "images , classes = next(iter(trainloader))\n",
    "\n",
    "def imgshow(img):\n",
    "    img = img / 2 + 0.5\n",
    "    npimg = img.numpy()\n",
    "    plt.imshow(np.transpose(npimg, (1, 2, 0)))\n",
    "    plt.show()\n",
    "\n",
    "imgshow(torchvision.utils.make_grid(images))\n",
    "\n",
    "print(net(images).shape)"
   ]
  }
 ],
 "metadata": {
  "kernelspec": {
   "display_name": "Python 3.9.7 ('deep_le')",
   "language": "python",
   "name": "python3"
  },
  "language_info": {
   "codemirror_mode": {
    "name": "ipython",
    "version": 3
   },
   "file_extension": ".py",
   "mimetype": "text/x-python",
   "name": "python",
   "nbconvert_exporter": "python",
   "pygments_lexer": "ipython3",
   "version": "3.9.7"
  },
  "orig_nbformat": 4,
  "vscode": {
   "interpreter": {
    "hash": "a142b7d21e8575b7566c168744f24153333bb674c4e2523209192565d5391819"
   }
  }
 },
 "nbformat": 4,
 "nbformat_minor": 2
}
