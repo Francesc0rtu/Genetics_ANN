{
 "cells": [
  {
   "cell_type": "markdown",
   "metadata": {},
   "source": [
    "Let's construct a parametrizable nn architecture.\n",
    "Here we encode the genotype as a simple string of zeros and ones and we construct a simple neural network with one ore more hidden layers each one made of a random number of nodes."
   ]
  },
  {
   "cell_type": "code",
   "execution_count": 4,
   "metadata": {},
   "outputs": [],
   "source": [
    "from random import random, randint, seed\n",
    "from statistics import mean\n",
    "from copy import deepcopy\n",
    "\n",
    "import torch\n",
    "import torch.nn as nn\n",
    "import torch.nn.functional as F\n",
    "from torchsummary import summary\n",
    "\n",
    "import numpy as np\n",
    "import math\n",
    "import copy\n",
    "\n",
    "\n",
    "import torchvision\n",
    "import torchvision.transforms as transforms\n",
    "import os\n",
    "from torch.utils.data import Dataset, DataLoader\n",
    "from sklearn.model_selection import train_test_split\n",
    "import PIL.Image as Image\n",
    "from torchvision import datasets,models\n",
    "import matplotlib.pyplot as plt"
   ]
  },
  {
   "cell_type": "code",
   "execution_count": 5,
   "metadata": {},
   "outputs": [],
   "source": [
    "class Net(torch.nn.Module):\n",
    "    def __init__(self, genotype):\n",
    "        super().__init__()\n",
    "        self.layerlist = []\n",
    "        self.input_size = 6\n",
    "        self.output_size = 1\n",
    "        self.curr_input_size = copy.deepcopy(self.input_size)\n",
    "\n",
    "        for gene in genotype: \n",
    "\n",
    "            # add final layer\n",
    "            if gene == 0:\n",
    "                self.layerlist.append(torch.nn.Linear(in_features=self.curr_input_size, out_features=self.output_size))\n",
    "                self.layerlist.append(torch.nn.ReLU())\n",
    "\n",
    "            # add another intermediate layer\n",
    "            elif gene == 1:\n",
    "                n_nodes = np.random.randint(1, 10)\n",
    "                self.layerlist.append(torch.nn.Linear(in_features=self.curr_input_size, out_features=n_nodes))\n",
    "                self.layerlist.append(torch.nn.ReLU())\n",
    "\n",
    "                self.curr_input_size = n_nodes\n",
    "                \n",
    "    def forward(self, X):\n",
    "        self.layerlist.append(torch.nn.Sigmoid())\n",
    "        self.layers = torch.nn.Sequential(*self.layerlist)\n",
    "        out = self.layers(X)\n",
    "        \n",
    "        return out"
   ]
  },
  {
   "cell_type": "code",
   "execution_count": null,
   "metadata": {},
   "outputs": [],
   "source": [
    "torch.manual_seed(123456)\n",
    "\n",
    "X = torch.rand(1,10,6)\n",
    "\n",
    "model=Net([1,1,1,0])\n",
    "# feed data into the model\n",
    "y = model.forward(X)\n",
    "\n",
    "summary(model)"
   ]
  },
  {
   "cell_type": "markdown",
   "metadata": {},
   "source": [
    "Now we use the same construction to build a CNN (like LeNet) adding a customizable number of inner blocks, each one with a random number for output channels and kernel size.\n",
    "\n",
    "So that the CNNs we obtain differ in:\n",
    "* length\n",
    "* type of convolutional layer apply:\n",
    "    * output channels (input ch. as well)\n",
    "    * kernel size"
   ]
  },
  {
   "cell_type": "code",
   "execution_count": 5,
   "metadata": {},
   "outputs": [],
   "source": [
    "# prepare a preprocessing pipeline \n",
    "transform = transforms.Compose([\n",
    "    transforms.ToTensor(),\n",
    "    transforms.Normalize((0.1307,), (0.3081,)),\n",
    "])\n",
    "\n",
    "# We download the train and the test dataset in the given root and applying the given transforms\n",
    "trainset = torchvision.datasets.MNIST(root='./data', train=True,  download=True, transform=transform)\n",
    "testset = torchvision.datasets.MNIST(root='./data', train=False,  download=True, transform=transform)\n",
    "\n",
    "batch_size=4\n",
    "\n",
    "# dataloaders\n",
    "trainloader = torch.utils.data.DataLoader(trainset, batch_size=batch_size,  shuffle=True, num_workers=2)\n",
    "testloader = torch.utils.data.DataLoader(testset, batch_size=batch_size,  shuffle=False, num_workers=2)"
   ]
  },
  {
   "cell_type": "code",
   "execution_count": 62,
   "metadata": {},
   "outputs": [],
   "source": [
    "class ConvNet(nn.Module):\n",
    "    def __init__(self, genotype):\n",
    "        super().__init__()\n",
    "        self.layerlist = []\n",
    "        self.input_channels = 1\n",
    "        self.output_channels = 6\n",
    "        self.output_size = 10\n",
    "        self.kernel_size = 5\n",
    "        self.input_size = 28\n",
    "\n",
    "        for gene in genotype: \n",
    "            # add final layer\n",
    "            if gene == 0:\n",
    "                self.layerlist.append(torch.nn.Flatten())\n",
    "                size = (self.input_size)**2\n",
    "                self.layerlist.append(torch.nn.Linear(size, 120))\n",
    "                self.layerlist.append(torch.nn.ReLU())\n",
    "                self.layerlist.append(torch.nn.Linear(120, 84))\n",
    "                self.layerlist.append(torch.nn.ReLU())\n",
    "                self.layerlist.append(torch.nn.Linear(84, self.output_size))\n",
    "\n",
    "            # add another intermediate layer\n",
    "            elif gene == 1:\n",
    "                output_channels = np.random.randint(1, 10)\n",
    "                kernel_size = np.random.randint(2, 5)\n",
    "                self.layerlist.append(torch.nn.Conv2d(in_channels=self.input_channels, out_channels=output_channels, kernel_size=kernel_size))\n",
    "                self.layerlist.append(torch.nn.ReLU())\n",
    "                self.layerlist.append(torch.nn.MaxPool2d(2, 2))\n",
    "                self.input_size = int((self.input_size - kernel_size + 1)/2)\n",
    "                self.output_channels = output_channels\n",
    "                self.input_channels = output_channels\n",
    "                self.kernel_size = kernel_size\n",
    "\n",
    "\n",
    "    def forward(self, x):\n",
    "        self.layers = torch.nn.Sequential(*self.layerlist)\n",
    "        out = self.layers(x)\n",
    "        return out"
   ]
  },
  {
   "cell_type": "code",
   "execution_count": 23,
   "metadata": {},
   "outputs": [
    {
     "data": {
      "text/plain": [
       "torch.Size([1, 28, 28])"
      ]
     },
     "execution_count": 23,
     "metadata": {},
     "output_type": "execute_result"
    }
   ],
   "source": [
    "trainloader.dataset.data[0].unsqueeze(0).shape "
   ]
  },
  {
   "cell_type": "code",
   "execution_count": 68,
   "metadata": {},
   "outputs": [
    {
     "name": "stdout",
     "output_type": "stream",
     "text": [
      "=================================================================\n",
      "Layer (type:depth-idx)                   Param #\n",
      "=================================================================\n",
      "├─Sequential: 1-1                        --\n",
      "|    └─Conv2d: 2-1                       60\n",
      "|    └─ReLU: 2-2                         --\n",
      "|    └─MaxPool2d: 2-3                    --\n",
      "|    └─Conv2d: 2-4                       175\n",
      "|    └─ReLU: 2-5                         --\n",
      "|    └─MaxPool2d: 2-6                    --\n",
      "|    └─Flatten: 2-7                      --\n",
      "|    └─Linear: 2-8                       4,440\n",
      "|    └─ReLU: 2-9                         --\n",
      "|    └─Linear: 2-10                      10,164\n",
      "|    └─ReLU: 2-11                        --\n",
      "|    └─Linear: 2-12                      850\n",
      "=================================================================\n",
      "Total params: 15,689\n",
      "Trainable params: 15,689\n",
      "Non-trainable params: 0\n",
      "=================================================================\n"
     ]
    },
    {
     "data": {
      "text/plain": [
       "=================================================================\n",
       "Layer (type:depth-idx)                   Param #\n",
       "=================================================================\n",
       "├─Sequential: 1-1                        --\n",
       "|    └─Conv2d: 2-1                       60\n",
       "|    └─ReLU: 2-2                         --\n",
       "|    └─MaxPool2d: 2-3                    --\n",
       "|    └─Conv2d: 2-4                       175\n",
       "|    └─ReLU: 2-5                         --\n",
       "|    └─MaxPool2d: 2-6                    --\n",
       "|    └─Flatten: 2-7                      --\n",
       "|    └─Linear: 2-8                       4,440\n",
       "|    └─ReLU: 2-9                         --\n",
       "|    └─Linear: 2-10                      10,164\n",
       "|    └─ReLU: 2-11                        --\n",
       "|    └─Linear: 2-12                      850\n",
       "=================================================================\n",
       "Total params: 15,689\n",
       "Trainable params: 15,689\n",
       "Non-trainable params: 0\n",
       "================================================================="
      ]
     },
     "execution_count": 68,
     "metadata": {},
     "output_type": "execute_result"
    }
   ],
   "source": [
    "torch.manual_seed(123456)\n",
    "\n",
    "model=ConvNet([1,1,0])\n",
    "# feed data into the model\n",
    "x = trainloader.dataset.data[0].unsqueeze(0).float()\n",
    "y = model.forward(x)\n",
    "\n",
    "summary(model, input_size=(1, 1, 28, 28))"
   ]
  }
 ],
 "metadata": {
  "kernelspec": {
   "display_name": "Python 3.9.5 ('deep-learn')",
   "language": "python",
   "name": "python3"
  },
  "language_info": {
   "codemirror_mode": {
    "name": "ipython",
    "version": 3
   },
   "file_extension": ".py",
   "mimetype": "text/x-python",
   "name": "python",
   "nbconvert_exporter": "python",
   "pygments_lexer": "ipython3",
   "version": "3.9.5"
  },
  "orig_nbformat": 4,
  "vscode": {
   "interpreter": {
    "hash": "1d4df73e08e394aceedb93fd289f1fdb03087f2b8b3b3a9e1d14c5267e8bf280"
   }
  }
 },
 "nbformat": 4,
 "nbformat_minor": 2
}
