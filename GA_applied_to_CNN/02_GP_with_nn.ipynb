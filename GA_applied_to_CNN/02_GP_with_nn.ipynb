{
 "cells": [
  {
   "cell_type": "markdown",
   "metadata": {},
   "source": [
    "## Grammatical Evolution applied to NN\n",
    "\n",
    "In this notebook we try to develop a very simple example of GP applied to NNs with just one layer."
   ]
  },
  {
   "cell_type": "code",
   "execution_count": 1,
   "metadata": {},
   "outputs": [],
   "source": [
    "from random import random, randint, seed\n",
    "from statistics import mean\n",
    "from copy import deepcopy\n",
    "\n",
    "import torch\n",
    "import torch.nn as nn\n",
    "import torch.nn.functional as F\n",
    "from torchsummary import summary\n",
    "\n",
    "import numpy as np\n",
    "import math\n",
    "import copy"
   ]
  },
  {
   "cell_type": "markdown",
   "metadata": {},
   "source": [
    "The rationale behind the design of this grammar is the evolution of networks composed of one hidden-layer, where only the hidden-neurons as well as the weights of the connections\n",
    "from the input and to the output neurons are evolved."
   ]
  },
  {
   "cell_type": "markdown",
   "metadata": {},
   "source": [
    "```\n",
    "<sigexpr> ::= <node>\n",
    "            | <node> + <sigexpr>\n",
    "<node> ::= <weight> * sig(<sum> + <bias>)\n",
    "<sum> ::= <weight> * <features>\n",
    "        | <weight> * <features> + <sum>\n",
    "<features> ::= x1\n",
    "            | : : :\n",
    "            | xn\n",
    "<weight> ::= <number>\n",
    "<bias> ::= <number>\n",
    "<number> ::= <digit>.<digit><digit>\n",
    "            | –<digit>.<digit><digit>\n",
    "<digit> ::= 0 | 1 | 2 | 3 | 4 | 5 | 6 | 7 | 8 | 9\n",
    "\n",
    "```"
   ]
  },
  {
   "cell_type": "code",
   "execution_count": 42,
   "metadata": {},
   "outputs": [],
   "source": [
    "n = 6\n",
    "XLIST = np.random.rand(n) # initial random input of lenght n - features\n",
    "\n",
    "def add(x,y): return x+y\n",
    "def mul(x,y): return x*y\n",
    "def sig(x): return 1 / (1 + math.exp(-x))\n",
    "\n",
    "FUNCTIONS = [add, mul, sig]"
   ]
  },
  {
   "cell_type": "code",
   "execution_count": 58,
   "metadata": {},
   "outputs": [],
   "source": [
    "class GP_MLP:\n",
    "    def __init__(self, data = None, left = None, right = None, weights = None):\n",
    "        self.data  = data\n",
    "        self.left  = left\n",
    "        self.right = right\n",
    "        self.genotype = []\n",
    "        self.weights = []\n",
    "        self.biases = []\n",
    "\n",
    "    def build_mlp(self, branch, grow, max_depth, depth= 0, parent=None):\n",
    "        if random() > 0.5:\n",
    "            parent.genotype.append(0)\n",
    "            branch.build_node(branch, grow, max_depth, depth = 0, parent=parent)\n",
    "        else:\n",
    "            parent.genotype.append(1)\n",
    "            branch.data = add\n",
    "            branch.left = GP_MLP()\n",
    "            branch.build_node(branch.left, grow, max_depth, depth = 1, parent=parent)\n",
    "            branch.right = GP_MLP()\n",
    "            branch.build_mlp(branch.right, grow, max_depth, depth = 1, parent=parent)\n",
    "\n",
    "\n",
    "    def build_node(self, branch, grow, max_depth, depth = 0, parent = None):\n",
    "        parent.weights.append(0)\n",
    "        branch.data = mul\n",
    "        branch.left = GP_MLP()      \n",
    "        w = np.random.rand()\n",
    "        branch.left.data = w\n",
    "        parent.weights.append(w)\n",
    "\n",
    "        branch.right = GP_MLP()\n",
    "        branch.right.data = sig\n",
    "        branch.right.left = GP_MLP()\n",
    "        branch.right.left.data = add\n",
    "        branch.right.left.left = GP_MLP()\n",
    "        branch.add_sum(branch.right.left.left, True, max_depth, 1, branch.genotype)\n",
    "        branch.right.left.right = GP_MLP()\n",
    "        b = np.random.rand()\n",
    "        branch.right.left.right.data = b\n",
    "        parent.biases.append(b)\n",
    "            \n",
    "    def add_sum(self, branch, grow, max_depth, depth = 0, parent = None): # create random tree using either grow or full method\n",
    "\n",
    "        if random() > 0.6 or depth >= max_depth: \n",
    "            branch.data = mul\n",
    "            branch.add_sum_rec(branch)\n",
    "            parent.append(0)\n",
    "        else:\n",
    "            branch.data = add\n",
    "            branch.left = GP_MLP()          \n",
    "            branch.left.data = mul\n",
    "            \n",
    "            branch.left.add_sum_rec(branch.left)\n",
    "\n",
    "            branch.right = GP_MLP()\n",
    "            branch.right.add_sum(branch, grow, max_depth, depth = depth + 1, parent=parent)\n",
    "            parent.append(1)\n",
    "        \n",
    "        \n",
    "\n",
    "    def add_sum_rec(self, branch):\n",
    "        branch.left = GP_MLP() \n",
    "        w = np.random.rand()\n",
    "        branch.left.data = w\n",
    "        self.weights.append(w)\n",
    "        branch.right = GP_MLP()\n",
    "        branch.right.data = XLIST[randint(0, len(XLIST)-1)]\n",
    "\n",
    "    def compute_tree(self): \n",
    "        if self.data == sig:\n",
    "            return self.data(self.left.compute_tree())\n",
    "        elif (self.data in FUNCTIONS): \n",
    "            return self.data(self.left.compute_tree(), self.right.compute_tree()) # perform the corresponding operation\n",
    "        else:\n",
    "            return self.data\n",
    "\n",
    "    def node_label(self): # string label\n",
    "        if (self.data in FUNCTIONS):\n",
    "            return self.data.__name__\n",
    "        else: \n",
    "            return str(round(self.data,3))\n",
    "    \n",
    "    def print_tree(self, prefix = \"\"): # textual printout\n",
    "        print(\"%s%s\" % (prefix, self.node_label()))        \n",
    "        if self.left:  self.left.print_tree (prefix + \"   \")\n",
    "        if self.right: self.right.print_tree(prefix + \"   \")\n",
    "\n",
    "    def print_genotype(self):\n",
    "        print(self.genotype)\n",
    "\n",
    "    def get_genotype(self):\n",
    "        return self.genotype\n",
    "\n",
    "    def get_weights(self):\n",
    "        return self.weights\n",
    "\n",
    "    def get_biases(self):\n",
    "        return self.biases\n",
    "              "
   ]
  },
  {
   "cell_type": "code",
   "execution_count": 65,
   "metadata": {},
   "outputs": [
    {
     "name": "stdout",
     "output_type": "stream",
     "text": [
      "[1, 1, 1, 0]\n",
      "add\n",
      "   mul\n",
      "      0.089\n",
      "      sig\n",
      "         add\n",
      "            mul\n",
      "               0.809\n",
      "               0.675\n",
      "            0.157\n",
      "   add\n",
      "      mul\n",
      "         0.459\n",
      "         sig\n",
      "            add\n",
      "               mul\n",
      "                  0.816\n",
      "                  0.488\n",
      "               0.693\n",
      "      add\n",
      "         mul\n",
      "            0.911\n",
      "            sig\n",
      "               add\n",
      "                  mul\n",
      "                     0.337\n",
      "                     0.257\n",
      "                  0.685\n",
      "         mul\n",
      "            0.582\n",
      "            sig\n",
      "               add\n",
      "                  mul\n",
      "                     0.689\n",
      "                     0.675\n",
      "                  0.703\n"
     ]
    }
   ],
   "source": [
    "t = GP_MLP()\n",
    "t.build_mlp(t, grow = True, max_depth = 3, depth= 0, parent = t) \n",
    "t.print_genotype()\n",
    "t.print_tree()"
   ]
  },
  {
   "cell_type": "code",
   "execution_count": 45,
   "metadata": {},
   "outputs": [
    {
     "data": {
      "text/plain": [
       "0.6792044672257038"
      ]
     },
     "execution_count": 45,
     "metadata": {},
     "output_type": "execute_result"
    }
   ],
   "source": [
    "t.compute_tree()"
   ]
  },
  {
   "cell_type": "code",
   "execution_count": 46,
   "metadata": {},
   "outputs": [
    {
     "data": {
      "text/plain": [
       "[0, 0.9872339111023377]"
      ]
     },
     "execution_count": 46,
     "metadata": {},
     "output_type": "execute_result"
    }
   ],
   "source": [
    "t.get_weights()"
   ]
  },
  {
   "cell_type": "code",
   "execution_count": 47,
   "metadata": {},
   "outputs": [
    {
     "data": {
      "text/plain": [
       "[0.25432475387655984]"
      ]
     },
     "execution_count": 47,
     "metadata": {},
     "output_type": "execute_result"
    }
   ],
   "source": [
    "t.get_biases()"
   ]
  }
 ],
 "metadata": {
  "kernelspec": {
   "display_name": "Python 3.9.5 ('deep-learn')",
   "language": "python",
   "name": "python3"
  },
  "language_info": {
   "codemirror_mode": {
    "name": "ipython",
    "version": 3
   },
   "file_extension": ".py",
   "mimetype": "text/x-python",
   "name": "python",
   "nbconvert_exporter": "python",
   "pygments_lexer": "ipython3",
   "version": "3.9.5"
  },
  "orig_nbformat": 4,
  "vscode": {
   "interpreter": {
    "hash": "1d4df73e08e394aceedb93fd289f1fdb03087f2b8b3b3a9e1d14c5267e8bf280"
   }
  }
 },
 "nbformat": 4,
 "nbformat_minor": 2
}
